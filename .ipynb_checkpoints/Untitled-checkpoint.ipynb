{
 "cells": [
  {
   "cell_type": "code",
   "execution_count": null,
   "metadata": {},
   "outputs": [],
   "source": [
    "# Archive\n",
    "\n",
    "# H1\n",
    "y_h_1 = constant\n",
    "expectation_Eout_1 = np.mean(np.mean((y_ - y_h_1)**2))\n",
    "f = np.sin(x)\n",
    "bias_1 = np.mean((np.mean(y_h_1) - f)**2)\n",
    "variance_1 = np.mean(np.var(y_h_1))\n",
    "print (\"expectation of E_out of model 1:\", expectation_Eout_1)\n",
    "print(\"bias_1:\", bias_1)\n",
    "print(\"variance_1:\", variance_1)\n",
    "\n",
    "# H2\n",
    "y_h_2 = theta_0 + theta_1*x_\n",
    "expectation_Eout_2 = np.mean(np.mean((y_ - y_h_2)**2))\n",
    "f = np.sin(x)\n",
    "bias_2 = np.mean((np.mean(y_h_2) - f)**2)\n",
    "variance_2 = np.mean(np.var(y_h_2))\n",
    "print (\"expectation of E_out of model 2:\", expectation_Eout_2)\n",
    "print(\"bias_2:\", bias_2)\n",
    "print(\"variance_2:\", variance_2)"
   ]
  },
  {
   "cell_type": "code",
   "execution_count": null,
   "metadata": {},
   "outputs": [],
   "source": [
    "from sklearn.linear_model import Ridge\n",
    "num_datasets = 10\n",
    "num_train = 2\n",
    "num_test = 2\n",
    "sigma = 0.2\n",
    "iters = 50\n",
    "initial_theta_0 = 0\n",
    "initial_theta_1 = 0\n",
    "\n",
    "np.random.seed(1)\n",
    "x_train = 2*np.pi*np.random.rand(num_train)\n",
    "x_test  = 2*np.pi*np.random.rand(num_test)\n",
    "y_train = np.sin(x_train) + np.random.normal(0,sigma, (num_datasets,num_train))\n",
    "y_test  = np.sin(x_test)  + np.random.normal(0,sigma, (num_datasets,num_test))\n",
    "y_pre   = np.zeros(y_test.shape)\n",
    "f       = np.sin(x_test)\n",
    "\n",
    "bias_sq  = np.zeros(iters)\n",
    "variance = np.zeros(iters) \n",
    "test_error = np.zeros(iters) \n",
    "\n",
    "\n",
    "for i in range(iters):\n",
    "    lr = Ridge(alpha=0.01, normalize=True)\n",
    "    for j in range(num_datasets):\n",
    "        yt = y_train[j,:]\n",
    "        lr = lr.fit(x_train.reshape(-1,1), yt)\n",
    "        y_pre[j,:] = lr.predict(x_test.reshape(-1,1))\n",
    "        \n",
    "    test_error[i] = np.mean(np.mean((y_test - y_pre)**2, axis=1))\n",
    "    bias_sq[i]  = np.mean((np.mean(y_pre, axis=0) - f)**2)\n",
    "    variance[i] = np.mean(np.var(y_pre, axis=0))\n",
    "\n",
    "print(bias_sq[0] + variance[0])\n",
    "print(test_error[0])"
   ]
  }
 ],
 "metadata": {
  "kernelspec": {
   "display_name": "Python 3",
   "language": "python",
   "name": "python3"
  },
  "language_info": {
   "codemirror_mode": {
    "name": "ipython",
    "version": 3
   },
   "file_extension": ".py",
   "mimetype": "text/x-python",
   "name": "python",
   "nbconvert_exporter": "python",
   "pygments_lexer": "ipython3",
   "version": "3.6.4"
  }
 },
 "nbformat": 4,
 "nbformat_minor": 2
}
