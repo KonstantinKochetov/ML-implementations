{
 "cells": [
  {
   "cell_type": "code",
   "execution_count": 105,
   "metadata": {},
   "outputs": [],
   "source": [
    "# import libraries\n",
    "import matplotlib.pyplot as plt\n",
    "from mpl_toolkits.mplot3d import Axes3D\n",
    "# display matplotlib graph's within notebook\n",
    "%matplotlib inline \n",
    "import numpy as np\n",
    "import os\n",
    "\n",
    "np.set_printoptions(precision=3,suppress=True)"
   ]
  },
  {
   "cell_type": "code",
   "execution_count": 106,
   "metadata": {},
   "outputs": [
    {
     "data": {
      "image/png": "[encoded data removed]",
      "text/plain": [
       "<matplotlib.figure.Figure at 0x1a1acbbb00>"
      ]
     },
     "metadata": {},
     "output_type": "display_data"
    },
    {
     "name": "stdout",
     "output_type": "stream",
     "text": [
      "[[ 1.     4.528  3.087]\n",
      " [ 1.     1.549  2.607]\n",
      " [ 1.     2.709  4.858]\n",
      " [ 1.     2.069  3.646]\n",
      " [ 1.     1.16   3.208]\n",
      " [ 1.     4.294  0.953]\n",
      " [ 1.     2.767  3.109]\n",
      " [ 1.     0.677  5.004]\n",
      " [ 1.     1.854  4.104]\n",
      " [ 1.     4.308  2.75 ]\n",
      " [ 1.    -0.273  1.581]\n",
      " [ 1.    -0.101  1.708]\n",
      " [ 1.    -0.644  3.899]\n",
      " [ 1.    -4.492  3.383]\n",
      " [ 1.     3.865 -1.634]\n",
      " [ 1.     1.121  1.901]\n",
      " [ 1.    -0.767 -0.008]\n",
      " [ 1.     2.108  1.136]\n",
      " [ 1.     0.908  1.926]\n",
      " [ 1.     1.375  0.503]]\n",
      "[1. 1. 1. 1. 1. 1. 1. 1. 1. 1. 0. 0. 0. 0. 0. 0. 0. 0. 0. 0.]\n"
     ]
    }
   ],
   "source": [
    "num_iters = 1000\n",
    "alpha = 0.2\n",
    "\n",
    "# class 0:\n",
    "# covariance matrix and mean\n",
    "\n",
    "cov0 = np.array([[5,-3],[-3,3]])\n",
    "\n",
    "mean0 = np.array([2.,3])\n",
    "\n",
    "# number of data points\n",
    "m0 = 10\n",
    "# generate m0 gaussian distributed data points with\n",
    "# mean0 and cov0.\n",
    "r0 = np.random.multivariate_normal(mean0, cov0, m0)\n",
    "\n",
    "# covariance matrix\n",
    "cov1 = np.array([[5,-3],[-3,3]])\n",
    "mean1 = np.array([1.,1])\n",
    "m1 = 10\n",
    "r1 = np.random.multivariate_normal(mean1, cov1, m1)\n",
    "\n",
    "plt.scatter(r0[...,0], r0[...,1], c='b', marker='o', label=\"Klasse 0\")\n",
    "plt.scatter(r1[...,0], r1[...,1], c='r', marker='x', label=\"Klasse 1\")\n",
    "plt.xlabel(\"x0\")\n",
    "plt.ylabel(\"x1\")\n",
    "plt.show()\n",
    "\n",
    "X = np.concatenate((r0,r1))\n",
    "X = np.append(np.ones((len(X),1)), X, axis=1)\n",
    "y = np.zeros(len(r0)+len(r1))\n",
    "y[:len(r0),] = 1\n",
    "print(X)\n",
    "print(y)\n",
    "\n",
    "m = len(y)\n",
    "theta = np.array([1.1, 2.0, -.9]) "
   ]
  },
  {
   "cell_type": "code",
   "execution_count": 107,
   "metadata": {},
   "outputs": [
    {
     "data": {
      "text/plain": [
       "Text(0,0.5,'$g(x)$')"
      ]
     },
     "execution_count": 107,
     "metadata": {},
     "output_type": "execute_result"
    },
    {
     "data": {
      "image/png": "[encoded data removed]",
      "text/plain": [
       "<matplotlib.figure.Figure at 0x10a023898>"
      ]
     },
     "metadata": {},
     "output_type": "display_data"
    }
   ],
   "source": [
    "# Aufgabe  1\n",
    "def sigmoid(z):\n",
    "    return 1 / (1 + np.exp(-z))\n",
    "\n",
    "# test on a few values\n",
    "xx = np.linspace(-5, 5, 1000)\n",
    "\n",
    "# plot sigmoid function vs. x\n",
    "plt.plot(xx, sigmoid(xx))\n",
    "plt.xlabel(r'$x$')\n",
    "plt.ylabel(r'$g(x)$')"
   ]
  },
  {
   "cell_type": "code",
   "execution_count": 108,
   "metadata": {},
   "outputs": [
    {
     "name": "stdout",
     "output_type": "stream",
     "text": [
      "[0.999 0.864 0.895 0.876 0.63  1.    0.979 0.114 0.753 0.999 0.295 0.345\n",
      " 0.024 0.    1.    0.836 0.395 0.987 0.766 0.968]\n"
     ]
    }
   ],
   "source": [
    "# Aufgabe 2\n",
    "def logistic_hypothesis(theta):\n",
    "    def h(X):\n",
    "        y = sigmoid(np.dot(X, theta))\n",
    "        return y\n",
    "    return h\n",
    "\n",
    "\n",
    "# test\n",
    "theta_test_0 = np.array([1.1, 2.0, -.9]) \n",
    "h_test_0 = logistic_hypothesis(theta_test_0)\n",
    "X_test_0 = X.copy()\n",
    "print(h_test_0(X_test_0))"
   ]
  },
  {
   "cell_type": "code",
   "execution_count": 109,
   "metadata": {},
   "outputs": [
    {
     "name": "stdout",
     "output_type": "stream",
     "text": [
      "-25.929164999748508\n"
     ]
    }
   ],
   "source": [
    "# Aufgabe 3\n",
    "def cross_entropy_loss(h, X, y):\n",
    "    def loss(theta):\n",
    "        h = logistic_hypothesis(theta)\n",
    "        temp = np.dot(y, np.log(h(X))) + np.dot((1-y), np.log(1- h(X)))\n",
    "        return temp\n",
    "    return loss\n",
    "\n",
    "\n",
    "# test\n",
    "theta_test_1 = np.array([1.1, 2.0, -.9]) \n",
    "h_test_1 = logistic_hypothesis(theta_test_1)\n",
    "X_test_1 = X.copy()\n",
    "y_test_1 = y.copy()\n",
    "\n",
    "loss_test_1 = cross_entropy_loss(h_test_1, X_test_1, y_test_1)\n",
    "print(loss_test_1(theta_test_1))"
   ]
  },
  {
   "cell_type": "code",
   "execution_count": 110,
   "metadata": {},
   "outputs": [
    {
     "name": "stdout",
     "output_type": "stream",
     "text": [
      "1.2964582499874255\n"
     ]
    }
   ],
   "source": [
    "# Aufgabe 4\n",
    "def cost_function(X, y, h, theta):\n",
    "    loss = cross_entropy_loss(h, X, y)\n",
    "    cost = -1*(1/m) * loss(theta)\n",
    "    return cost\n",
    "\n",
    "# test\n",
    "theta_test_2 = np.array([1.1, 2.0, -.9]) \n",
    "h_test_2 = logistic_hypothesis(theta_test_2)\n",
    "X_test_2 = X.copy()\n",
    "y_test_2 = y.copy()\n",
    "\n",
    "cost_test_2 = cost_function(X_test_2, y_test_2, h_test_2, theta_test_2)\n",
    "print(cost_test_2)"
   ]
  },
  {
   "cell_type": "code",
   "execution_count": 111,
   "metadata": {},
   "outputs": [
    {
     "name": "stdout",
     "output_type": "stream",
     "text": [
      "[ 1.063  1.938 -0.862]\n"
     ]
    }
   ],
   "source": [
    "# Aufgabe 5\n",
    "# a) \n",
    "def compute_new_theta(X, y, theta, alpha, h):\n",
    "    theta = theta - np.dot(np.transpose(X), h(X) - y)*(alpha/m)\n",
    "    return theta\n",
    "\n",
    "# test\n",
    "theta_test_3 = np.array([1.1, 2.0, -.9]) \n",
    "h_test_3 = logistic_hypothesis(theta_test_3)\n",
    "X_test_3 = X.copy()\n",
    "y_test_3 = y.copy()\n",
    "\n",
    "theta_test_3 = compute_new_theta(X_test_3, y_test_3, theta_test_3, alpha, h_test_3)\n",
    "print(theta_test_3)"
   ]
  },
  {
   "cell_type": "code",
   "execution_count": 112,
   "metadata": {},
   "outputs": [
    {
     "data": {
      "text/plain": [
       "[<matplotlib.lines.Line2D at 0x1a1af82128>]"
      ]
     },
     "execution_count": 112,
     "metadata": {},
     "output_type": "execute_result"
    },
    {
     "data": {
      "image/png": "[encoded data removed]",
      "text/plain": [
       "<matplotlib.figure.Figure at 0x111e134e0>"
      ]
     },
     "metadata": {},
     "output_type": "display_data"
    }
   ],
   "source": [
    "# b), c)\n",
    "def gradient_descent(alpha, theta, X, y):\n",
    "    J_history = np.zeros((num_iters, 1))\n",
    "    for i in range(num_iters):\n",
    "        h = logistic_hypothesis(theta)\n",
    "        theta = compute_new_theta(X, y, theta, alpha, h)\n",
    "        for j in range(m):\n",
    "            j = cost_function(X, y, h, theta)\n",
    "            J_history[i] = j\n",
    "    return J_history, theta\n",
    "\n",
    "# test\n",
    "theta_test_4 = np.array([0, 0, 0]) \n",
    "h_test_4 = logistic_hypothesis(theta_test_4)\n",
    "X_test_4 = X.copy()\n",
    "y_test_4 = y.copy()\n",
    "\n",
    "J_history, theta_result = gradient_descent(alpha, theta_test_4, X_test_4, y_test_4)\n",
    "plt.plot(J_history)"
   ]
  },
  {
   "cell_type": "code",
   "execution_count": 113,
   "metadata": {},
   "outputs": [
    {
     "name": "stdout",
     "output_type": "stream",
     "text": [
      "Y_before till 10:  [1. 1. 1. 1. 1. 1. 1. 1. 1. 1.]\n",
      "Y_after_gradient_descent till 10:  [0.999 0.682 0.999 0.977 0.758 0.953 0.984 0.974 0.985 0.998]\n"
     ]
    }
   ],
   "source": [
    "# test Y\n",
    "print(\"Y_before till 10: \", y[:10])\n",
    "h = logistic_hypothesis(theta_result)\n",
    "y_after = h(X)\n",
    "print(\"Y_after_gradient_descent till 10: \", y_after[:10])"
   ]
  },
  {
   "cell_type": "code",
   "execution_count": 114,
   "metadata": {},
   "outputs": [
    {
     "data": {
      "image/png": "[encoded data removed]",
      "text/plain": [
       "<matplotlib.figure.Figure at 0x1a1b037cf8>"
      ]
     },
     "metadata": {},
     "output_type": "display_data"
    }
   ],
   "source": [
    "# Aufgabe 6\n",
    "def plot3D(X, y, theta_result):\n",
    "    \n",
    "    # data\n",
    "    data = np.c_[X[:, 1], X[:, 2], y]\n",
    "    \n",
    "    # negative/positive points\n",
    "    pos = y >= 0.5\n",
    "    neg = y <= 0.5\n",
    "    \n",
    "    X_0_pos = X[pos,1]\n",
    "    X_0_pos = X_0_pos.reshape(len(X_0_pos), 1)\n",
    "    X_1_pos = X[pos,2]\n",
    "    X_1_pos = X_1_pos.reshape(len(X_1_pos), 1)\n",
    "    Y_pos = y[pos]\n",
    "    Y_pos = Y_pos.reshape(len(Y_pos), 1)\n",
    "    \n",
    "    X_0_neg = X[neg,1]\n",
    "    X_0_neg = X_0_neg.reshape(len(X_0_neg), 1)\n",
    "    X_1_neg = X[neg,2]\n",
    "    X_1_neg = X_1_neg.reshape(len(X_1_neg), 1)\n",
    "    Y_neg = y[neg]\n",
    "    Y_neg = Y_neg.reshape(len(Y_neg), 1)\n",
    "    \n",
    "    # plot plane\n",
    "    mn = np.min(data, axis=0)\n",
    "    mx = np.max(data, axis=0)\n",
    "    X,Y = np.meshgrid(np.linspace(mn[0], mx[0], 20), np.linspace(mn[1], mx[1], 20))\n",
    "    Z = theta_result[1]*X + theta_result[2]*Y + theta_result[0]  \n",
    "    fig1 =  plt.figure(figsize=(10, 10))\n",
    "    ax = fig1.gca(projection='3d')\n",
    "    ax.plot_surface(X, Y, Z, rstride=1, cstride=1, alpha=0.2)\n",
    "    \n",
    "    # plot points\n",
    "    ax.scatter(X_0_neg, X_1_neg, Y_neg, c='g', s=50)\n",
    "    ax.scatter(X_0_pos, X_1_pos, Y_pos, c='r', s=50)\n",
    "    \n",
    "    # plot finish\n",
    "    plt.xlabel('X')\n",
    "    plt.ylabel('Y')\n",
    "    ax.set_zlabel('Z')\n",
    "    ax.axis('equal')\n",
    "    ax.axis('tight')\n",
    "    \n",
    "    # rotate\n",
    "    for angle in range(0, 360):\n",
    "        ax.view_init(25, angle)\n",
    "\n",
    "# test\n",
    "X_test = X.copy()\n",
    "y_after_test = y_after.copy()\n",
    "theta_result_test = theta_result.copy()\n",
    "plot3D(X_test, y_after, theta_result_test)"
   ]
  },
  {
   "cell_type": "code",
   "execution_count": 115,
   "metadata": {},
   "outputs": [
    {
     "name": "stdout",
     "output_type": "stream",
     "text": [
      "High five! You successfully sent some data to your account on plotly. View your plot in your browser at https://plot.ly/~kochetov0824/0 or inside your plot.ly account where it is named 'test1'\n"
     ]
    }
   ],
   "source": [
    "# Plotting 3d mit Plotly\n",
    "\n",
    "from mpl_toolkits.mplot3d import Axes3D\n",
    "import matplotlib.pyplot as plt\n",
    "\n",
    "# Import plotly package\n",
    "import plotly\n",
    "import plotly.graph_objs as go\n",
    "\n",
    "# Check ploltly version\n",
    "plotly.__version__\n",
    "\n",
    "# To communicate with Plotly's server, sign in with credentials file\n",
    "import plotly.plotly as py\n",
    "\n",
    "def plotly3D(X, y, theta):\n",
    "    \n",
    "    data = np.c_[X[:, 1], X[:, 2], y]\n",
    "    \n",
    "    pos = y >= 0.5\n",
    "    neg = y <= 0.5 \n",
    "    \n",
    "    # plot points and fitted surface using Plotly\n",
    "    X_0_pos = X[pos,1]\n",
    "    X_0_pos = X_0_pos.reshape(len(X_0_pos), 1)\n",
    "    X_1_pos = X[pos,2]\n",
    "    X_1_pos = X_1_pos.reshape(len(X_1_pos), 1)\n",
    "    Y_pos = y[pos]\n",
    "    Y_pos = Y_pos.reshape(len(Y_pos), 1)\n",
    "    \n",
    "    X_0_neg = X[neg,1]\n",
    "    X_0_neg = X_0_neg.reshape(len(X_0_neg), 1)\n",
    "    X_1_neg = X[neg,2]\n",
    "    X_1_neg = X_1_neg.reshape(len(X_1_neg), 1)\n",
    "    Y_neg = y[neg]\n",
    "    Y_neg = Y_neg.reshape(len(Y_neg), 1)\n",
    "    \n",
    "    data0 = np.c_[X_0_pos, X_1_pos, Y_pos]\n",
    "    data1 = np.c_[X_0_neg, X_1_neg, Y_neg]\n",
    "    \n",
    "    mn = np.min(data, axis=0)\n",
    "    mx = np.max(data, axis=0)\n",
    "    X,Y = np.meshgrid(np.linspace(mn[0], mx[0], 20), np.linspace(mn[1], mx[1], 20))\n",
    "    XX = X.flatten()\n",
    "    YY = Y.flatten()\n",
    "        \n",
    "    # best-fit linear plane (1st-order)\n",
    "    A = np.c_[data[:,0], data[:,1], np.ones(data.shape[0])]\n",
    "    \n",
    "    # evaluate it on grid\n",
    "    Z = theta_result[1]*X + theta_result[2]*Y + theta_result[0] \n",
    "    \n",
    "    trace0 = go.Scatter3d(\n",
    "        x=data0[:,0],\n",
    "        y=data0[:,1],\n",
    "        z=data0[:,2],\n",
    "        mode='markers',\n",
    "        marker=dict(size=4, color='green', line=dict(color='black', width=0.5), opacity=0.8)\n",
    "    )\n",
    "    \n",
    "    trace1 = go.Scatter3d(\n",
    "        x=data1[:,0],\n",
    "        y=data1[:,1],\n",
    "        z=data1[:,2],\n",
    "        mode='markers',\n",
    "        marker=dict(size=4, color='red', line=dict(color='black', width=0.5), opacity=0.8)\n",
    "    )\n",
    "    \n",
    "    trace2 = go.Surface(z=Z, x=X, y=Y, colorscale='RdBu', opacity=0.999)\n",
    "    \n",
    "    # Package the trace dictionary into a data object\n",
    "    data_test1 = go.Data([trace0, trace1, trace2])\n",
    "    \n",
    "    # Dictionary of style options for all axes\n",
    "    axis = dict(\n",
    "        showbackground=True, # show axis background\n",
    "        backgroundcolor=\"rgb(204, 204, 204)\", # set background color to grey\n",
    "        gridcolor=\"rgb(255, 255, 255)\",       # set grid line color\n",
    "        zerolinecolor=\"rgb(255, 255, 255)\",   # set zero grid line color\n",
    "    )\n",
    "    \n",
    "    # Make a layout object\n",
    "    layout = go.Layout(\n",
    "        title='1st-order (linear) plane', # set plot title\n",
    "        scene=go.Scene(  # axes are part of a 'scene' in 3d plots\n",
    "            xaxis=go.XAxis(axis), # set x-axis style\n",
    "            yaxis=go.YAxis(axis), # set y-axis style\n",
    "            zaxis=go.ZAxis(axis)),  # set z-axis style\n",
    "    )\n",
    "    \n",
    "    # Make a figure object\n",
    "    fig = go.Figure(data=data_test1, layout=layout)\n",
    "    \n",
    "    # Send to Plotly and show in notebook\n",
    "    py.iplot(fig, filename='test1')\n",
    "\n",
    "# test\n",
    "X_test = X.copy()\n",
    "y_after_test = y_after.copy()\n",
    "theta_result_test = theta_result.copy()\n",
    "plotly3D(X_test, y_after, theta_result_test)"
   ]
  },
  {
   "cell_type": "code",
   "execution_count": 116,
   "metadata": {},
   "outputs": [
    {
     "name": "stdout",
     "output_type": "stream",
     "text": [
      "0.0\n"
     ]
    }
   ],
   "source": [
    "# Aufgabe 7\n",
    "# Klassifikationsfehler = Anzahl der falsch-klassifizierten Datensätze / Anzahl der Datensätze\n",
    "def classif_error(y_after, y):\n",
    "    m = len(y)\n",
    "    counter = 0\n",
    "    for i in range(m):\n",
    "        if (y_after[i] >= 0.5):\n",
    "            y_after[i] = 1\n",
    "        else:\n",
    "            y_after[i] = 0\n",
    "            \n",
    "        if (y_after[i] != y[i]):\n",
    "            counter = counter + 1          \n",
    "    return counter / m\n",
    "\n",
    "# test\n",
    "y_after_test_7 = y_after.copy()\n",
    "y_test_7 = y.copy()\n",
    "error_number = classif_error(y_after_test_7, y_test_7)\n",
    "print(error_number)"
   ]
  },
  {
   "cell_type": "markdown",
   "metadata": {},
   "source": [
    "![title](cost_reg.png)"
   ]
  },
  {
   "cell_type": "code",
   "execution_count": 117,
   "metadata": {},
   "outputs": [
    {
     "name": "stdout",
     "output_type": "stream",
     "text": [
      "1.4167082499874255\n"
     ]
    }
   ],
   "source": [
    "# Aufgabe 8\n",
    "def cost_function_reg(X, y, h, theta, lambda_reg):\n",
    "    loss = cross_entropy_loss(h, X, y)\n",
    "    cost = -1*(1/m) * loss(theta) + (lambda_reg/(2*m))*np.sum(np.square(theta[1:]))\n",
    "    return cost\n",
    "\n",
    "# test\n",
    "theta_test_8 = np.array([1.1, 2.0, -.9]) \n",
    "h_test_8 = logistic_hypothesis(theta_test_8)\n",
    "X_test_8 = X.copy()\n",
    "y_test_8 = y.copy()\n",
    "lambda_reg_test_8 = 1\n",
    "\n",
    "cost_test_8 = cost_function_reg(X_test_8, y_test_8, h_test_8, theta_test_8, lambda_reg_test_8)\n",
    "print(cost_test_8)"
   ]
  },
  {
   "cell_type": "markdown",
   "metadata": {},
   "source": [
    "![title](gradient_reg.png)"
   ]
  },
  {
   "cell_type": "code",
   "execution_count": 118,
   "metadata": {},
   "outputs": [
    {
     "name": "stdout",
     "output_type": "stream",
     "text": [
      "[ 1.063  1.918 -0.853]\n"
     ]
    }
   ],
   "source": [
    "# Aufgabe 9 \n",
    "def compute_new_theta_reg(X, y, theta, alpha, h, lam):\n",
    "    \n",
    "    # make an array of lambdas \n",
    "    lamarray = np.ones(len(theta)) * lam\n",
    "    \n",
    "    # zero out first element so se don't regularize constant term\n",
    "    lamarray[0] = 0.0\n",
    "    \n",
    "    # number of training samples\n",
    "    m = len(y)\n",
    "    \n",
    "    grad = theta - (alpha * ((np.dot(np.transpose(X), h(X) - y)) * (1/m) + (lamarray * theta) * (1/m)))  \n",
    "            \n",
    "    return grad\n",
    "    \n",
    "\n",
    "# test\n",
    "theta_test_9 = np.array([1.1, 2.0, -.9])\n",
    "h_test_9 = logistic_hypothesis(theta_test_9)\n",
    "X_test_9 = X.copy()\n",
    "y_test_9 = y.copy()\n",
    "lambda_reg_test_9 = 1\n",
    "\n",
    "theta_result_9 = compute_new_theta_reg(X_test_9, y_test_9, theta_test_9, alpha, h_test_9, lambda_reg_test_9)\n",
    "print(theta_result_9)"
   ]
  },
  {
   "cell_type": "code",
   "execution_count": 119,
   "metadata": {},
   "outputs": [
    {
     "data": {
      "text/plain": [
       "[<matplotlib.lines.Line2D at 0x1a1b116d30>]"
      ]
     },
     "execution_count": 119,
     "metadata": {},
     "output_type": "execute_result"
    },
    {
     "data": {
      "image/png": "[encoded data removed]",
      "text/plain": [
       "<matplotlib.figure.Figure at 0x1128533c8>"
      ]
     },
     "metadata": {},
     "output_type": "display_data"
    }
   ],
   "source": [
    "# b), c)\n",
    "def gradient_descent_reg(alpha, theta, X, y, lam):\n",
    "    J_history = np.zeros((num_iters, 1))\n",
    "    for i in range(num_iters):\n",
    "        h = logistic_hypothesis(theta)\n",
    "        theta = compute_new_theta_reg(X, y, theta, alpha, h, lam)\n",
    "        for j in range(m):\n",
    "            j = cost_function_reg(X, y, h, theta, lam)\n",
    "            J_history[i] = j\n",
    "    return J_history, theta\n",
    "\n",
    "# test\n",
    "theta_test_11 = np.array([0, 0, 0]) \n",
    "h_test_11 = logistic_hypothesis(theta_test_11)\n",
    "X_test_11 = X.copy()\n",
    "y_test_11 = y.copy()\n",
    "lambda_reg_test_11 = 1\n",
    "\n",
    "J_history, theta_result = gradient_descent_reg(alpha, theta_test_11, X_test_11, y_test_11, lambda_reg_test_11)\n",
    "plt.plot(J_history)"
   ]
  },
  {
   "cell_type": "code",
   "execution_count": 120,
   "metadata": {},
   "outputs": [
    {
     "name": "stdout",
     "output_type": "stream",
     "text": [
      "Y_before till 10:  [1. 1. 1. 1. 1. 1. 1. 1. 1. 1.]\n",
      "Y_after_gradient_descent till 10:  [0.99  0.581 0.99  0.907 0.649 0.828 0.92  0.909 0.931 0.979]\n"
     ]
    }
   ],
   "source": [
    "# test Y\n",
    "print(\"Y_before till 10: \", y[:10])\n",
    "h = logistic_hypothesis(theta_result)\n",
    "y_after = h(X)\n",
    "print(\"Y_after_gradient_descent till 10: \", y_after[:10])"
   ]
  },
  {
   "cell_type": "code",
   "execution_count": 136,
   "metadata": {},
   "outputs": [],
   "source": [
    "# Bias Variance Tradeoff\n",
    "# Funktionen\n",
    "def compute_new_theta_bias_variance(x,y,theta_0,theta_1, alpha):\n",
    "\n",
    "    temp0 = 1/len(x) * (theta_0 + theta_1 * x - y).sum() # abgeleitet\n",
    "    temp1 = 1/len(x) * ((theta_0 + theta_1 * x - y) * x).sum() # abgeleitet\n",
    "\n",
    "    theta_0 -= alpha*  temp0\n",
    "    theta_1 -= alpha*  temp1\n",
    "\n",
    "    return theta_0, theta_1\n",
    "\n",
    "def gradient_descent_bias_variance(x, y, theta_0, theta_1, alpha):\n",
    "    kosten = np.array([])\n",
    "    for i in range (iterations):\n",
    "        theta_0, theta_1 = compute_new_theta_bias_variance(x, y, theta_0, theta_1, alpha)   \n",
    "    return theta_0, theta_1\n",
    "\n",
    "def train_data(counter):\n",
    "    x_train = x_[counter[0]:counter[1]]\n",
    "    y_train = y_[counter[0]:counter[1]]\n",
    "    return x_train, y_train\n",
    "\n",
    "def get_theta(x, y, initial_theta_0, initial_theta_1):\n",
    "    theta_0, theta_1 = gradient_descent_bias_variance(x,y, initial_theta_0, initial_theta_1, alpha)\n",
    "    return theta_0, theta_1"
   ]
  },
  {
   "cell_type": "code",
   "execution_count": 137,
   "metadata": {},
   "outputs": [],
   "source": [
    "# Trainings Daten\n",
    "num_train = 100\n",
    "iterations = 500\n",
    "alpha = 0.1\n",
    "np.random.seed(1) # wird immer gleiche randoms geben\n",
    "x_ = 2*np.pi*np.random.uniform(0, 1, num_train) # gleichverteilt zwischen 0 und 2*pi\n",
    "y_ = np.sin(x_)"
   ]
  },
  {
   "cell_type": "code",
   "execution_count": 138,
   "metadata": {},
   "outputs": [
    {
     "data": {
      "text/plain": [
       "[<matplotlib.lines.Line2D at 0x1a1b538518>]"
      ]
     },
     "execution_count": 138,
     "metadata": {},
     "output_type": "execute_result"
    },
    {
     "data": {
      "image/png": "[encoded data removed]",
      "text/plain": [
       "<matplotlib.figure.Figure at 0x1a1b4622e8>"
      ]
     },
     "metadata": {},
     "output_type": "display_data"
    }
   ],
   "source": [
    "counter = np.array([0,2])\n",
    "x, y = train_data(counter)\n",
    "# H1\n",
    "constant = (y[0] + y[1]) / len(y)\n",
    "# H2\n",
    "initial_theta_0 = 0\n",
    "initial_theta_1 = 0\n",
    "theta_0, theta_1 = get_theta(x.copy(), y.copy(), initial_theta_0, initial_theta_1)\n",
    "\n",
    "f1 = plt.figure()\n",
    "ax1 = f1.add_subplot(111)\n",
    "\n",
    "ax1.scatter(x_,y_)\n",
    "ax1.scatter(x,y, color='r')\n",
    "ax1.plot(x_,  theta_0 + theta_1 * x_, 'g-')\n",
    "ax1.plot([0,2*np.pi],[constant,constant], color=\"r\")"
   ]
  },
  {
   "cell_type": "code",
   "execution_count": 152,
   "metadata": {},
   "outputs": [
    {
     "name": "stdout",
     "output_type": "stream",
     "text": [
      "4.3566433834604315\n",
      "4.426244047507635\n"
     ]
    }
   ],
   "source": [
    "from sklearn.linear_model import Ridge\n",
    "num_datasets = 10\n",
    "num_train = 2\n",
    "num_test = 2\n",
    "sigma = 0.2\n",
    "iters = 50\n",
    "initial_theta_0 = 0\n",
    "initial_theta_1 = 0\n",
    "\n",
    "np.random.seed(1)\n",
    "x_train = 2*np.pi*np.random.rand(num_train)\n",
    "x_test  = 2*np.pi*np.random.rand(num_test)\n",
    "y_train = np.sin(x_train) + np.random.normal(0,sigma, (num_datasets,num_train))\n",
    "y_test  = np.sin(x_test)  + np.random.normal(0,sigma, (num_datasets,num_test))\n",
    "y_pre   = np.zeros(y_test.shape)\n",
    "f       = np.sin(x_test)\n",
    "\n",
    "bias_sq  = np.zeros(iters)\n",
    "variance = np.zeros(iters) \n",
    "test_error = np.zeros(iters) \n",
    "\n",
    "\n",
    "for i in range(iters):\n",
    "    lr = Ridge(alpha=0.01, normalize=True)\n",
    "    for j in range(num_datasets):\n",
    "        yt = y_train[j,:]\n",
    "        lr = lr.fit(x_train.reshape(-1,1), yt)\n",
    "        y_pre[j,:] = lr.predict(x_test.reshape(-1,1))\n",
    "        \n",
    "    test_error[i] = np.mean(np.mean((y_test - y_pre)**2, axis=1))\n",
    "    bias_sq[i]  = np.mean((np.mean(y_pre, axis=0) - f)**2)\n",
    "    variance[i] = np.mean(np.var(y_pre, axis=0))\n",
    "\n",
    "print(bias_sq[0] + variance[0])\n",
    "print(test_error[0])"
   ]
  },
  {
   "cell_type": "code",
   "execution_count": 151,
   "metadata": {},
   "outputs": [
    {
     "name": "stdout",
     "output_type": "stream",
     "text": [
      "[2.62  4.526]\n",
      "[ 0.498 -0.983]\n",
      "[[ 0.392 -1.197]\n",
      " [ 0.671 -1.443]\n",
      " [ 0.847 -1.135]\n",
      " [ 0.562 -1.033]\n",
      " [ 0.79  -1.395]\n",
      " [ 0.434 -1.059]\n",
      " [ 0.725 -1.203]\n",
      " [ 0.464 -1.158]\n",
      " [ 0.507 -0.866]\n",
      " [ 0.278 -0.754]]\n"
     ]
    },
    {
     "ename": "ValueError",
     "evalue": "x and y must be the same size",
     "output_type": "error",
     "traceback": [
      "\u001b[0;31m------------------\u001b[0m",
      "\u001b[0;31mValueError\u001b[0mTraceback (most recent call last)",
      "\u001b[0;32m<ipython-input-151-0b0e708fa3f3>\u001b[0m in \u001b[0;36m<module>\u001b[0;34m()\u001b[0m\n\u001b[1;32m      2\u001b[0m \u001b[0mprint\u001b[0m\u001b[0;34m(\u001b[0m\u001b[0my\u001b[0m\u001b[0;34m)\u001b[0m\u001b[0;34m\u001b[0m\u001b[0m\n\u001b[1;32m      3\u001b[0m \u001b[0mprint\u001b[0m\u001b[0;34m(\u001b[0m\u001b[0my_train\u001b[0m\u001b[0;34m)\u001b[0m\u001b[0;34m\u001b[0m\u001b[0m\n\u001b[0;32m----> 4\u001b[0;31m \u001b[0mplt\u001b[0m\u001b[0;34m.\u001b[0m\u001b[0mscatter\u001b[0m\u001b[0;34m(\u001b[0m\u001b[0mx_train\u001b[0m\u001b[0;34m,\u001b[0m\u001b[0my_train\u001b[0m\u001b[0;34m)\u001b[0m\u001b[0;34m\u001b[0m\u001b[0m\n\u001b[0m",
      "\u001b[0;32m/anaconda3/lib/python3.6/site-packages/matplotlib/pyplot.py\u001b[0m in \u001b[0;36mscatter\u001b[0;34m(x, y, s, c, marker, cmap, norm, vmin, vmax, alpha, linewidths, verts, edgecolors, hold, data, **kwargs)\u001b[0m\n\u001b[1;32m   3376\u001b[0m                          \u001b[0mvmin\u001b[0m\u001b[0;34m=\u001b[0m\u001b[0mvmin\u001b[0m\u001b[0;34m,\u001b[0m \u001b[0mvmax\u001b[0m\u001b[0;34m=\u001b[0m\u001b[0mvmax\u001b[0m\u001b[0;34m,\u001b[0m \u001b[0malpha\u001b[0m\u001b[0;34m=\u001b[0m\u001b[0malpha\u001b[0m\u001b[0;34m,\u001b[0m\u001b[0;34m\u001b[0m\u001b[0m\n\u001b[1;32m   3377\u001b[0m                          \u001b[0mlinewidths\u001b[0m\u001b[0;34m=\u001b[0m\u001b[0mlinewidths\u001b[0m\u001b[0;34m,\u001b[0m \u001b[0mverts\u001b[0m\u001b[0;34m=\u001b[0m\u001b[0mverts\u001b[0m\u001b[0;34m,\u001b[0m\u001b[0;34m\u001b[0m\u001b[0m\n\u001b[0;32m-> 3378\u001b[0;31m                          edgecolors=edgecolors, data=data, **kwargs)\n\u001b[0m\u001b[1;32m   3379\u001b[0m     \u001b[0;32mfinally\u001b[0m\u001b[0;34m:\u001b[0m\u001b[0;34m\u001b[0m\u001b[0m\n\u001b[1;32m   3380\u001b[0m         \u001b[0max\u001b[0m\u001b[0;34m.\u001b[0m\u001b[0m_hold\u001b[0m \u001b[0;34m=\u001b[0m \u001b[0mwashold\u001b[0m\u001b[0;34m\u001b[0m\u001b[0m\n",
      "\u001b[0;32m/anaconda3/lib/python3.6/site-packages/matplotlib/__init__.py\u001b[0m in \u001b[0;36minner\u001b[0;34m(ax, *args, **kwargs)\u001b[0m\n\u001b[1;32m   1715\u001b[0m                     warnings.warn(msg % (label_namer, func.__name__),\n\u001b[1;32m   1716\u001b[0m                                   RuntimeWarning, stacklevel=2)\n\u001b[0;32m-> 1717\u001b[0;31m             \u001b[0;32mreturn\u001b[0m \u001b[0mfunc\u001b[0m\u001b[0;34m(\u001b[0m\u001b[0max\u001b[0m\u001b[0;34m,\u001b[0m \u001b[0;34m*\u001b[0m\u001b[0margs\u001b[0m\u001b[0;34m,\u001b[0m \u001b[0;34m**\u001b[0m\u001b[0mkwargs\u001b[0m\u001b[0;34m)\u001b[0m\u001b[0;34m\u001b[0m\u001b[0m\n\u001b[0m\u001b[1;32m   1718\u001b[0m         \u001b[0mpre_doc\u001b[0m \u001b[0;34m=\u001b[0m \u001b[0minner\u001b[0m\u001b[0;34m.\u001b[0m\u001b[0m__doc__\u001b[0m\u001b[0;34m\u001b[0m\u001b[0m\n\u001b[1;32m   1719\u001b[0m         \u001b[0;32mif\u001b[0m \u001b[0mpre_doc\u001b[0m \u001b[0;32mis\u001b[0m \u001b[0;32mNone\u001b[0m\u001b[0;34m:\u001b[0m\u001b[0;34m\u001b[0m\u001b[0m\n",
      "\u001b[0;32m/anaconda3/lib/python3.6/site-packages/matplotlib/axes/_axes.py\u001b[0m in \u001b[0;36mscatter\u001b[0;34m(self, x, y, s, c, marker, cmap, norm, vmin, vmax, alpha, linewidths, verts, edgecolors, **kwargs)\u001b[0m\n\u001b[1;32m   3953\u001b[0m         \u001b[0my\u001b[0m \u001b[0;34m=\u001b[0m \u001b[0mnp\u001b[0m\u001b[0;34m.\u001b[0m\u001b[0mma\u001b[0m\u001b[0;34m.\u001b[0m\u001b[0mravel\u001b[0m\u001b[0;34m(\u001b[0m\u001b[0my\u001b[0m\u001b[0;34m)\u001b[0m\u001b[0;34m\u001b[0m\u001b[0m\n\u001b[1;32m   3954\u001b[0m         \u001b[0;32mif\u001b[0m \u001b[0mx\u001b[0m\u001b[0;34m.\u001b[0m\u001b[0msize\u001b[0m \u001b[0;34m!=\u001b[0m \u001b[0my\u001b[0m\u001b[0;34m.\u001b[0m\u001b[0msize\u001b[0m\u001b[0;34m:\u001b[0m\u001b[0;34m\u001b[0m\u001b[0m\n\u001b[0;32m-> 3955\u001b[0;31m             \u001b[0;32mraise\u001b[0m \u001b[0mValueError\u001b[0m\u001b[0;34m(\u001b[0m\u001b[0;34m\"x and y must be the same size\"\u001b[0m\u001b[0;34m)\u001b[0m\u001b[0;34m\u001b[0m\u001b[0m\n\u001b[0m\u001b[1;32m   3956\u001b[0m \u001b[0;34m\u001b[0m\u001b[0m\n\u001b[1;32m   3957\u001b[0m         \u001b[0;32mif\u001b[0m \u001b[0ms\u001b[0m \u001b[0;32mis\u001b[0m \u001b[0;32mNone\u001b[0m\u001b[0;34m:\u001b[0m\u001b[0;34m\u001b[0m\u001b[0m\n",
      "\u001b[0;31mValueError\u001b[0m: x and y must be the same size"
     ]
    },
    {
     "data": {
      "image/png": "[encoded data removed]",
      "text/plain": [
       "<matplotlib.figure.Figure at 0x1a1b6c4828>"
      ]
     },
     "metadata": {},
     "output_type": "display_data"
    }
   ],
   "source": [
    "print(x_train)\n",
    "print(y)\n",
    "print(y_train)\n",
    "\n"
   ]
  },
  {
   "cell_type": "code",
   "execution_count": null,
   "metadata": {},
   "outputs": [],
   "source": []
  }
 ],
 "metadata": {
  "kernelspec": {
   "display_name": "Python 3",
   "language": "python",
   "name": "python3"
  },
  "language_info": {
   "codemirror_mode": {
    "name": "ipython",
    "version": 3
   },
   "file_extension": ".py",
   "mimetype": "text/x-python",
   "name": "python",
   "nbconvert_exporter": "python",
   "pygments_lexer": "ipython3",
   "version": "3.6.4"
  }
 },
 "nbformat": 4,
 "nbformat_minor": 2
}
