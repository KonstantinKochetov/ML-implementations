{
 "cells": [
  {
   "cell_type": "code",
   "execution_count": 1,
   "metadata": {},
   "outputs": [],
   "source": [
    "# import libraries\n",
    "import matplotlib.pyplot as plt\n",
    "from mpl_toolkits.mplot3d import Axes3D\n",
    "# display matplotlib graph's within notebook\n",
    "%matplotlib inline \n",
    "import numpy as np\n",
    "import os\n",
    "\n",
    "np.set_printoptions(precision=3,suppress=True)"
   ]
  },
  {
   "cell_type": "code",
   "execution_count": 2,
   "metadata": {},
   "outputs": [
    {
     "name": "stdout",
     "output_type": "stream",
     "text": [
      "X_norm till 10:  [[ 1.    27.611 44.115]\n",
      " [ 1.    28.747 44.238]\n",
      " [ 1.     8.818 17.806]\n",
      " [ 1.     1.325  2.423]\n",
      " [ 1.     0.786 19.798]\n",
      " [ 1.    31.622 39.983]\n",
      " [ 1.    32.257 40.793]\n",
      " [ 1.    46.021 43.565]\n",
      " [ 1.    35.886 27.422]\n",
      " [ 1.    12.565  3.199]]\n"
     ]
    }
   ],
   "source": [
    "# Daten\n",
    "points_size = 100\n",
    "num_iters = 400\n",
    "alpha = 0.01\n",
    "J_history = np.zeros((num_iters, 1))\n",
    "\n",
    "x_1 = np.random.uniform(0, 50, points_size)\n",
    "x_2 = np.random.uniform(0, 50, points_size)\n",
    "X = np.column_stack((x_1, x_2))\n",
    "m = len(X)\n",
    "X_norm = np.append(np.ones((m,1)), X, axis=1)\n",
    "print(\"X_norm till 10: \", X_norm[:10])"
   ]
  },
  {
   "cell_type": "code",
   "execution_count": 3,
   "metadata": {},
   "outputs": [
    {
     "data": {
      "text/plain": [
       "Text(0,0.5,'$g(x)$')"
      ]
     },
     "execution_count": 3,
     "metadata": {},
     "output_type": "execute_result"
    },
    {
     "data": {
      "image/png": "[encoded data removed]",
      "text/plain": [
       "<matplotlib.figure.Figure at 0x10a323b70>"
      ]
     },
     "metadata": {},
     "output_type": "display_data"
    }
   ],
   "source": [
    "# Aufgabe  1\n",
    "def sigmoid(z):\n",
    "    return 1 / (1 + np.exp(-z))\n",
    "\n",
    "# test on a few values\n",
    "xx = np.linspace(-5, 5, 1000)\n",
    "\n",
    "# plot sigmoid function vs. x\n",
    "plt.plot(xx, sigmoid(xx))\n",
    "plt.xlabel(r'$x$')\n",
    "plt.ylabel(r'$g(x)$')"
   ]
  },
  {
   "cell_type": "code",
   "execution_count": 14,
   "metadata": {},
   "outputs": [
    {
     "name": "stdout",
     "output_type": "stream",
     "text": [
      "Y is:  [0.    0.    0.    0.    0.    0.    0.    0.    0.    0.072]\n"
     ]
    }
   ],
   "source": [
    "# Aufgabe 2\n",
    "def logistic_hypothesis(theta):\n",
    "    def h(X):\n",
    "        y = sigmoid(np.dot(X, theta))\n",
    "        return y\n",
    "    return h\n",
    "\n",
    "theta = np.array([1.1, 2.0, -9]) \n",
    "h = logistic_hypothesis(theta)\n",
    "Y = h(X_norm)\n",
    "print(\"Y is: \", Y[:10])"
   ]
  },
  {
   "cell_type": "code",
   "execution_count": 16,
   "metadata": {},
   "outputs": [],
   "source": [
    "# Aufgabe 3\n",
    "def cross_entropy_loss_squad_error(h, X, y):\n",
    "    def loss(theta):\n",
    "        h = logistic_hypothesis(theta)\n",
    "        m = len(y) \n",
    "        temp = -y.T * np.log(h(X)) - (1-y.T) * np.log(1- h(X))\n",
    "        return (temp / m)\n",
    "    return loss"
   ]
  },
  {
   "cell_type": "code",
   "execution_count": null,
   "metadata": {},
   "outputs": [],
   "source": [
    "# Aufgabe 4\n",
    "def cost_function(X, y, h, loss):\n",
    "    def j(theta):\n",
    "        entropy = cross_entropy_loss_squad_error(h, X, y)\n",
    "        loss = entropy(theta)\n",
    "        return loss\n",
    "    return j"
   ]
  },
  {
   "cell_type": "code",
   "execution_count": null,
   "metadata": {},
   "outputs": [],
   "source": [
    "# Aufgabe 5\n",
    "# a) \n",
    "def compute_new_theta(x, y, theta, alpha, hypothesis):\n",
    "    return 0"
   ]
  },
  {
   "cell_type": "code",
   "execution_count": null,
   "metadata": {},
   "outputs": [],
   "source": []
  },
  {
   "cell_type": "code",
   "execution_count": null,
   "metadata": {},
   "outputs": [],
   "source": []
  },
  {
   "cell_type": "code",
   "execution_count": null,
   "metadata": {},
   "outputs": [],
   "source": []
  }
 ],
 "metadata": {
  "kernelspec": {
   "display_name": "Python 3",
   "language": "python",
   "name": "python3"
  },
  "language_info": {
   "codemirror_mode": {
    "name": "ipython",
    "version": 3
   },
   "file_extension": ".py",
   "mimetype": "text/x-python",
   "name": "python",
   "nbconvert_exporter": "python",
   "pygments_lexer": "ipython3",
   "version": "3.6.4"
  }
 },
 "nbformat": 4,
 "nbformat_minor": 2
}
