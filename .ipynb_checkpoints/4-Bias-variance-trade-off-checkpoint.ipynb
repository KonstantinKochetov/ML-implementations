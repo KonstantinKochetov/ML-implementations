{
 "cells": [
  {
   "cell_type": "markdown",
   "metadata": {},
   "source": [
    "# Bias-variance trade-off\n",
    "### How well these functions approximate sin(x)?\n",
    "1) Constant: f(x) = x <br/>\n",
    "2) Linear function: f(x) = ax + b"
   ]
  },
  {
   "cell_type": "code",
   "execution_count": 1,
   "metadata": {},
   "outputs": [],
   "source": [
    "# import libraries\n",
    "import matplotlib.pyplot as plt\n",
    "from mpl_toolkits.mplot3d import Axes3D\n",
    "# display matplotlib graph's within notebook\n",
    "%matplotlib inline \n",
    "import numpy as np\n",
    "import os\n",
    "\n",
    "np.set_printoptions(precision=3,suppress=True)"
   ]
  },
  {
   "cell_type": "code",
   "execution_count": 2,
   "metadata": {
    "pycharm": {
     "name": "#%%\n"
    }
   },
   "outputs": [],
   "source": [
    "# Bias Variance Tradeoff\n",
    "# Funktionen\n",
    "def compute_new_theta_bias_variance(x,y,theta_0,theta_1, alpha):\n",
    "\n",
    "    temp0 = 1/len(x) * (theta_0 + theta_1 * x - y).sum() # abgeleitet\n",
    "    temp1 = 1/len(x) * ((theta_0 + theta_1 * x - y) * x).sum() # abgeleitet\n",
    "\n",
    "    theta_0 -= alpha*  temp0\n",
    "    theta_1 -= alpha*  temp1\n",
    "\n",
    "    return theta_0, theta_1\n",
    "\n",
    "def gradient_descent_bias_variance(x, y, theta_0, theta_1, alpha):\n",
    "    kosten = np.array([])\n",
    "    for i in range (iterations):\n",
    "        theta_0, theta_1 = compute_new_theta_bias_variance(x, y, theta_0, theta_1, alpha)   \n",
    "    return theta_0, theta_1\n",
    "\n",
    "def linear_hypothesis(theta_0, theta_1):\n",
    "    def h(x):\n",
    "        y = theta_0 + theta_1*x\n",
    "        return y\n",
    "    return h\n",
    "\n",
    "def constant_hypothesis(y):\n",
    "    def h(x):\n",
    "        r = (y.sum()) / len(y)\n",
    "        return r\n",
    "    return h\n",
    "\n",
    "def train_data(counter, x_train, y_train):\n",
    "    x = x_train[counter[0]:counter[1]]\n",
    "    y = y_train[counter[0]:counter[1]]\n",
    "    return x, y\n",
    "\n",
    "def get_theta(x, y, initial_theta_0, initial_theta_1):\n",
    "    theta_0, theta_1 = gradient_descent_bias_variance(x,y, initial_theta_0, initial_theta_1, alpha)\n",
    "    return theta_0, theta_1"
   ]
  },
  {
   "cell_type": "code",
   "execution_count": 3,
   "metadata": {},
   "outputs": [],
   "source": [
    "# Trainings Daten\n",
    "num_train = 1000\n",
    "iterations = 1000\n",
    "alpha = 0.1\n",
    "np.random.seed(1) # wird immer gleiche randoms geben\n",
    "x_train = 2*np.pi*np.random.uniform(0, 1, num_train) # gleichverteilt zwischen 0 und 2*pi\n",
    "y_train = np.sin(x_train)\n",
    "\n",
    "\n",
    "x_test = 2*np.pi*np.random.uniform(0, 1, num_train)\n",
    "y_test = np.sin(x_test)\n",
    "f       = np.sin(x_test)"
   ]
  },
  {
   "cell_type": "code",
   "execution_count": 4,
   "metadata": {},
   "outputs": [],
   "source": [
    "def build_hypothesis_h_1(x, y):  \n",
    "    # H1\n",
    "    h_1 = constant_hypothesis(y)\n",
    "    return h_1\n",
    "    \n",
    "def build_hypothesis_h_2(x, y):\n",
    "    # H2\n",
    "    initial_theta_0 = 0\n",
    "    initial_theta_1 = 0\n",
    "    theta_0, theta_1 = get_theta(x, y, initial_theta_0, initial_theta_1)\n",
    "    h_2 = linear_hypothesis(theta_0, theta_1)\n",
    "    return np.array([h_2, theta_0, theta_1])\n",
    "    \n",
    "def plot_hypothesises(h_1, h_2, x_sin, y_sin, x, y):\n",
    "    f0 = plt.figure()\n",
    "    ax0 = f0.add_subplot(111)\n",
    "    \n",
    "    ax0.scatter(x_sin,y_sin)\n",
    "    ax0.scatter(x, y, color='r')\n",
    "    ax0.plot(x_sin,  h_2(x_sin), 'g-')\n",
    "    ax0.plot([0,2*np.pi],[h_1(x),h_1(x)], color=\"r\")\n",
    "\n",
    "def plot_hypothesis_h_1(h_1, x_sin, y_sin, x, y):\n",
    "    f1 = plt.figure()\n",
    "    ax1 = f1.add_subplot(111)\n",
    "    \n",
    "    ax1.scatter(x_sin,y_sin)\n",
    "    ax1.scatter(x, y, color='r')\n",
    "    ax1.plot([0,2*np.pi],[h_1(x),h_1(x)], color=\"r\")\n",
    "\n",
    "def plot_hypothesis_h_1_in_one_plot(h_1, x_sin, y_sin, x, y, ax1):    \n",
    "    ax1.scatter(x_sin,y_sin)\n",
    "    ax1.plot([0,2*np.pi],[h_1(x),h_1(x)], color=\"r\")\n",
    "    \n",
    "def plot_hypothesis_h_2_in_one_plot(h_2, x_sin, y_sin, x, y, ax2):    \n",
    "    ax2.scatter(x_sin,y_sin)\n",
    "    ax2.plot(x_sin, h_2(x_sin), 'g-') \n",
    "\n",
    "def plot_average_h1(average_h, x_sin, y_sin):\n",
    "    f3 = plt.figure()\n",
    "    ax3 = f3.add_subplot(111)\n",
    "    \n",
    "    ax3.scatter(x_sin,y_sin)\n",
    "    ax3.plot([0,2*np.pi],[average_h,average_h], color=\"r\")\n",
    "    \n",
    "def plot_average_h2(average_h_2, x_sin, y_sin):\n",
    "    f3 = plt.figure()\n",
    "    ax3 = f3.add_subplot(111)\n",
    "    theta_0 = average_h_2[0]\n",
    "    theta_1 = average_h_2[1]\n",
    "    \n",
    "    ax3.scatter(x_sin,y_sin)\n",
    "    ax3.plot(x_sin, theta_0 + theta_1 * x_sin, 'g-') \n",
    "    \n",
    "def plot_hypothesis_h_2(h_2, x_sin, y_sin, x, y):\n",
    "    f2 = plt.figure()\n",
    "    ax2 = f2.add_subplot(111)\n",
    "    \n",
    "    ax2.scatter(x_sin,y_sin)\n",
    "    ax2.scatter(x, y, color='r')\n",
    "    ax2.plot(x_sin,  h_2(x_sin), 'g-')\n",
    "    \n",
    "def calculate_e_out(h_1, h_2, x_test, y_test, x, y):\n",
    "    # H1 E_out\n",
    "    y_pre = h_1(x)\n",
    "    e_out_1 = np.mean((y_test - y_pre)**2)\n",
    "    print(\"E_out_model_1\", e_out_1)\n",
    "    # H2 E_out\n",
    "    y_pre = h_2(x_test)\n",
    "    e_out_2 = np.mean((y_test - y_pre)**2)\n",
    "    print(\"E_out_model_2\", e_out_2)"
   ]
  },
  {
   "cell_type": "code",
   "execution_count": 5,
   "metadata": {},
   "outputs": [
    {
     "data": {
      "image/png": "[encoded data removed]",
      "text/plain": [
       "<Figure size 432x288 with 1 Axes>"
      ]
     },
     "metadata": {
      "needs_background": "light"
     },
     "output_type": "display_data"
    }
   ],
   "source": [
    "# test\n",
    "counter = np.array([14,16])\n",
    "x, y = train_data(counter, x_train, y_train)\n",
    "h_1 = build_hypothesis_h_1(x, y)\n",
    "h_2_with_thetas = build_hypothesis_h_2(x, y)\n",
    "h_2 = h_2_with_thetas[0]\n",
    "plot_hypothesises(h_1, h_2, x_train, y_train, x, y)"
   ]
  },
  {
   "cell_type": "code",
   "execution_count": 6,
   "metadata": {},
   "outputs": [
    {
     "data": {
      "image/png": "[encoded data removed]",
      "text/plain": [
       "<Figure size 432x288 with 1 Axes>"
      ]
     },
     "metadata": {
      "needs_background": "light"
     },
     "output_type": "display_data"
    },
    {
     "data": {
      "image/png": "[encoded data removed]",
      "text/plain": [
       "<Figure size 432x288 with 1 Axes>"
      ]
     },
     "metadata": {
      "needs_background": "light"
     },
     "output_type": "display_data"
    }
   ],
   "source": [
    "x_train = 2*np.pi*np.random.uniform(0, 1, num_train) # gleichverteilt zwischen 0 und 2*pi\n",
    "y_train = np.sin(x_train)\n",
    "\n",
    "x_test = 2*np.pi*np.random.uniform(0, 1, num_train)\n",
    "y_test = np.sin(x_test)\n",
    "\n",
    "def get_hypothesises_h_1(counter, ax1, x_train, y_train, number_of_hypothesises):\n",
    "    h_1_array = np.array([])\n",
    "    for i in range(number_of_hypothesises):\n",
    "        counter[0] = counter[0] + 2\n",
    "        counter[1] = counter[1] + 2\n",
    "        x, y = train_data(counter, x_train, y_train)\n",
    "        h_1 = build_hypothesis_h_1(x, y)\n",
    "        plot_hypothesis_h_1_in_one_plot(h_1, x_train, y_train, x, y, ax1)\n",
    "        h_1_array = np.append(h_1_array, h_1, None)\n",
    "    return h_1_array\n",
    "\n",
    "def average_h_1(h_1_array, x):\n",
    "    y_array = np.array([])\n",
    "    for i in range(h_1_array.size):\n",
    "        y = h_1_array[i](x)\n",
    "        y_array = np.append(y_array, y, None)\n",
    "    return np.mean(y_array), y_array\n",
    "\n",
    "# test\n",
    "counter = np.array([0,2])\n",
    "f1 = plt.figure()\n",
    "ax1 = f1.add_subplot(111)\n",
    "number_of_hypothesises = 40\n",
    "h_1_array = get_hypothesises_h_1(counter, ax1, x_train, y_train, number_of_hypothesises)\n",
    "average_h_1, y_h1_array = average_h_1(h_1_array, x_train)\n",
    "plot_average_h1(average_h_1, x_train, y_train)\n"
   ]
  },
  {
   "cell_type": "code",
   "execution_count": 7,
   "metadata": {},
   "outputs": [
    {
     "data": {
      "image/png": "[encoded data removed]",
      "text/plain": [
       "<Figure size 432x288 with 1 Axes>"
      ]
     },
     "metadata": {
      "needs_background": "light"
     },
     "output_type": "display_data"
    },
    {
     "data": {
      "image/png": "[encoded data removed]",
      "text/plain": [
       "<Figure size 432x288 with 1 Axes>"
      ]
     },
     "metadata": {
      "needs_background": "light"
     },
     "output_type": "display_data"
    }
   ],
   "source": [
    "def get_hypothesises_h_2(counter, ax2, x_train, y_train, number_of_hypothesises):\n",
    "    h_2_array = np.array([])\n",
    "    for i in range(number_of_hypothesises):\n",
    "        counter[0] = counter[0] + 2\n",
    "        counter[1] = counter[1] + 2\n",
    "        x, y = train_data(counter, x_train, y_train)\n",
    "        h_2_with_thetas = build_hypothesis_h_2(x, y)\n",
    "        h_2 = h_2_with_thetas[0]\n",
    "        plot_hypothesis_h_2_in_one_plot(h_2, x_train, y_train, x, y, ax2)\n",
    "        #plot_hypothesis_h_2(h_2, x_train, y_train, x, y)\n",
    "        h_2_array = np.append(h_2_array, h_2_with_thetas, None)\n",
    "    return h_2_array\n",
    "\n",
    "def average_h_2(h_2_array, x):\n",
    "    theta_0_array = np.array([])\n",
    "    theta_1_array = np.array([])\n",
    "    for i in range(h_2_array.size):\n",
    "        theta_0 = h_2_array[1]\n",
    "        theta_1 = h_2_array[2]\n",
    "        theta_0_array = np.append(theta_0_array, theta_0, None)\n",
    "        theta_1_array = np.append(theta_1_array, theta_1, None)\n",
    "    return np.mean(theta_0_array), np.mean(theta_1_array)\n",
    "\n",
    "# test\n",
    "counter = np.array([0,2])\n",
    "f1 = plt.figure()\n",
    "ax1 = f1.add_subplot(111)\n",
    "number_of_hypothesises = 4\n",
    "h_2_array = get_hypothesises_h_2(counter, ax1, x_train, y_train, number_of_hypothesises)\n",
    "average_h_2 = average_h_2(h_2_array, x_train)\n",
    "plot_average_h2(average_h_2, x_train, y_train)"
   ]
  },
  {
   "cell_type": "markdown",
   "metadata": {},
   "source": [
    "![title](readme_images/bias_variance.png)\n",
    "![title](readme_images/bias_variance_2.png)"
   ]
  },
  {
   "cell_type": "code",
   "execution_count": 8,
   "metadata": {},
   "outputs": [
    {
     "name": "stdout",
     "output_type": "stream",
     "text": [
      "bias_model_1 0.521774307555678\n",
      "variance_model_1 0.2993662304918448\n",
      "expected e out 0.8211405380475227\n"
     ]
    }
   ],
   "source": [
    "# H1\n",
    "y_pre = average_h_1\n",
    "bias_h1 = np.mean((np.mean(y_pre) - f)**2)\n",
    "print(\"bias_model_1\", bias_h1)\n",
    "variance_h1 = np.mean(np.var(y_h1_array))\n",
    "print(\"variance_model_1\", variance_h1)\n",
    "print(\"expected e out\", bias_h1 + variance_h1)\n"
   ]
  },
  {
   "cell_type": "code",
   "execution_count": 9,
   "metadata": {},
   "outputs": [
    {
     "name": "stdout",
     "output_type": "stream",
     "text": [
      "bias_model_2 0.5068500094173163\n",
      "variance_model2 1.7444757680113065\n",
      "expected e out 2.251325777428623\n"
     ]
    }
   ],
   "source": [
    "# H2\n",
    "theta_0 = average_h_2[0]\n",
    "theta_1 = average_h_2[1]\n",
    "y_pre_2 = theta_0 + theta_1 * x_test\n",
    "bias_h2 = np.mean((np.mean(y_pre_2) - f)**2)\n",
    "print(\"bias_model_2\", bias_h2)\n",
    "variance_h2 = np.mean(np.var(y_pre_2))\n",
    "print(\"variance_model2\", variance_h2)\n",
    "print(\"expected e out\", bias_h2 + variance_h2)"
   ]
  }
 ],
 "metadata": {
  "kernelspec": {
   "display_name": "Python 3",
   "language": "python",
   "name": "python3"
  },
  "language_info": {
   "codemirror_mode": {
    "name": "ipython",
    "version": 3
   },
   "file_extension": ".py",
   "mimetype": "text/x-python",
   "name": "python",
   "nbconvert_exporter": "python",
   "pygments_lexer": "ipython3",
   "version": "3.7.3"
  },
  "pycharm": {
   "stem_cell": {
    "cell_type": "raw",
    "metadata": {
     "collapsed": false
    },
    "source": []
   }
  }
 },
 "nbformat": 4,
 "nbformat_minor": 2
}
