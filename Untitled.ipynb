{
 "cells": [
  {
   "cell_type": "code",
   "execution_count": null,
   "metadata": {},
   "outputs": [],
   "source": [
    "# Archive\n",
    "\n",
    "# H1\n",
    "y_h_1 = constant\n",
    "expectation_Eout_1 = np.mean(np.mean((y_ - y_h_1)**2))\n",
    "f = np.sin(x)\n",
    "bias_1 = np.mean((np.mean(y_h_1) - f)**2)\n",
    "variance_1 = np.mean(np.var(y_h_1))\n",
    "print (\"expectation of E_out of model 1:\", expectation_Eout_1)\n",
    "print(\"bias_1:\", bias_1)\n",
    "print(\"variance_1:\", variance_1)\n",
    "\n",
    "# H2\n",
    "y_h_2 = theta_0 + theta_1*x_\n",
    "expectation_Eout_2 = np.mean(np.mean((y_ - y_h_2)**2))\n",
    "f = np.sin(x)\n",
    "bias_2 = np.mean((np.mean(y_h_2) - f)**2)\n",
    "variance_2 = np.mean(np.var(y_h_2))\n",
    "print (\"expectation of E_out of model 2:\", expectation_Eout_2)\n",
    "print(\"bias_2:\", bias_2)\n",
    "print(\"variance_2:\", variance_2)"
   ]
  },
  {
   "cell_type": "code",
   "execution_count": 1,
   "metadata": {},
   "outputs": [
    {
     "ename": "NameError",
     "evalue": "name 'np' is not defined",
     "output_type": "error",
     "traceback": [
      "\u001b[0;31m--------------\u001b[0m",
      "\u001b[0;31mNameError\u001b[0mTraceback (most recent call last)",
      "\u001b[0;32m<ipython-input-1-4a7755f46d4c>\u001b[0m in \u001b[0;36m<module>\u001b[0;34m()\u001b[0m\n\u001b[1;32m      8\u001b[0m \u001b[0minitial_theta_1\u001b[0m \u001b[0;34m=\u001b[0m \u001b[0;36m0\u001b[0m\u001b[0;34m\u001b[0m\u001b[0m\n\u001b[1;32m      9\u001b[0m \u001b[0;34m\u001b[0m\u001b[0m\n\u001b[0;32m---> 10\u001b[0;31m \u001b[0mnp\u001b[0m\u001b[0;34m.\u001b[0m\u001b[0mrandom\u001b[0m\u001b[0;34m.\u001b[0m\u001b[0mseed\u001b[0m\u001b[0;34m(\u001b[0m\u001b[0;36m1\u001b[0m\u001b[0;34m)\u001b[0m\u001b[0;34m\u001b[0m\u001b[0m\n\u001b[0m\u001b[1;32m     11\u001b[0m \u001b[0mx_train\u001b[0m \u001b[0;34m=\u001b[0m \u001b[0;36m2\u001b[0m\u001b[0;34m*\u001b[0m\u001b[0mnp\u001b[0m\u001b[0;34m.\u001b[0m\u001b[0mpi\u001b[0m\u001b[0;34m*\u001b[0m\u001b[0mnp\u001b[0m\u001b[0;34m.\u001b[0m\u001b[0mrandom\u001b[0m\u001b[0;34m.\u001b[0m\u001b[0mrand\u001b[0m\u001b[0;34m(\u001b[0m\u001b[0mnum_train\u001b[0m\u001b[0;34m)\u001b[0m\u001b[0;34m\u001b[0m\u001b[0m\n\u001b[1;32m     12\u001b[0m \u001b[0mx_test\u001b[0m  \u001b[0;34m=\u001b[0m \u001b[0;36m2\u001b[0m\u001b[0;34m*\u001b[0m\u001b[0mnp\u001b[0m\u001b[0;34m.\u001b[0m\u001b[0mpi\u001b[0m\u001b[0;34m*\u001b[0m\u001b[0mnp\u001b[0m\u001b[0;34m.\u001b[0m\u001b[0mrandom\u001b[0m\u001b[0;34m.\u001b[0m\u001b[0mrand\u001b[0m\u001b[0;34m(\u001b[0m\u001b[0mnum_test\u001b[0m\u001b[0;34m)\u001b[0m\u001b[0;34m\u001b[0m\u001b[0m\n",
      "\u001b[0;31mNameError\u001b[0m: name 'np' is not defined"
     ]
    }
   ],
   "source": [
    "from sklearn.linear_model import Ridge\n",
    "num_datasets = 10\n",
    "num_train = 2\n",
    "num_test = 2\n",
    "sigma = 0.2\n",
    "iters = 50\n",
    "initial_theta_0 = 0\n",
    "initial_theta_1 = 0\n",
    "\n",
    "np.random.seed(1)\n",
    "x_train = 2*np.pi*np.random.rand(num_train)\n",
    "x_test  = 2*np.pi*np.random.rand(num_test)\n",
    "y_train = np.sin(x_train) + np.random.normal(0,sigma, (num_datasets,num_train))\n",
    "y_test  = np.sin(x_test)  + np.random.normal(0,sigma, (num_datasets,num_test))\n",
    "y_pre   = np.zeros(y_test.shape)\n",
    "f       = np.sin(x_test)\n",
    "\n",
    "bias_sq  = np.zeros(iters)\n",
    "variance = np.zeros(iters) \n",
    "test_error = np.zeros(iters) \n",
    "\n",
    "\n",
    "for i in range(iters):\n",
    "    lr = Ridge(alpha=0.01, normalize=True)\n",
    "    for j in range(num_datasets):\n",
    "        yt = y_train[j,:]\n",
    "        lr = lr.fit(x_train.reshape(-1,1), yt)\n",
    "        y_pre[j,:] = lr.predict(x_test.reshape(-1,1))\n",
    "        \n",
    "    test_error[i] = np.mean(np.mean((y_test - y_pre)**2, axis=1))\n",
    "    bias_sq[i]  = np.mean((np.mean(y_pre, axis=0) - f)**2)\n",
    "    variance[i] = np.mean(np.var(y_pre, axis=0))\n",
    "\n",
    "print(bias_sq[0] + variance[0])\n",
    "print(test_error[0])"
   ]
  },
  {
   "cell_type": "code",
   "execution_count": null,
   "metadata": {},
   "outputs": [],
   "source": [
    "# H1\n",
    "y_pre = average_h_1\n",
    "test_error_h1 = np.mean(np.mean((y_test - y_pre)**2, axis=1))\n",
    "print(\"e_out_model_1\", test_error_h1)\n",
    "bias_h1 = np.mean((np.mean(y_pre) - f)**2)\n",
    "print(\"bias_model_1\", bias_h1)\n",
    "variance_h1 = np.mean(np.var(y_h1_array))\n",
    "print(\"variance_model_1\", variance_h1)\n",
    "\n",
    "# H2\n",
    "theta_0 = average_h_2[0]\n",
    "theta_1 = average_h_2[1]\n"
   ]
  }
 ],
 "metadata": {
  "kernelspec": {
   "display_name": "Python 3",
   "language": "python",
   "name": "python3"
  },
  "language_info": {
   "codemirror_mode": {
    "name": "ipython",
    "version": 3
   },
   "file_extension": ".py",
   "mimetype": "text/x-python",
   "name": "python",
   "nbconvert_exporter": "python",
   "pygments_lexer": "ipython3",
   "version": "3.6.4"
  }
 },
 "nbformat": 4,
 "nbformat_minor": 2
}
