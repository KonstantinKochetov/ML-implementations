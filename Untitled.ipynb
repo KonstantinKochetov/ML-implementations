{
 "cells": [
  {
   "cell_type": "code",
   "execution_count": null,
   "metadata": {},
   "outputs": [],
   "source": [
    "# Archive\n",
    "\n",
    "# H1\n",
    "y_h_1 = constant\n",
    "expectation_Eout_1 = np.mean(np.mean((y_ - y_h_1)**2))\n",
    "f = np.sin(x)\n",
    "bias_1 = np.mean((np.mean(y_h_1) - f)**2)\n",
    "variance_1 = np.mean(np.var(y_h_1))\n",
    "print (\"expectation of E_out of model 1:\", expectation_Eout_1)\n",
    "print(\"bias_1:\", bias_1)\n",
    "print(\"variance_1:\", variance_1)\n",
    "\n",
    "# H2\n",
    "y_h_2 = theta_0 + theta_1*x_\n",
    "expectation_Eout_2 = np.mean(np.mean((y_ - y_h_2)**2))\n",
    "f = np.sin(x)\n",
    "bias_2 = np.mean((np.mean(y_h_2) - f)**2)\n",
    "variance_2 = np.mean(np.var(y_h_2))\n",
    "print (\"expectation of E_out of model 2:\", expectation_Eout_2)\n",
    "print(\"bias_2:\", bias_2)\n",
    "print(\"variance_2:\", variance_2)"
   ]
  }
 ],
 "metadata": {
  "kernelspec": {
   "display_name": "Python 3",
   "language": "python",
   "name": "python3"
  },
  "language_info": {
   "codemirror_mode": {
    "name": "ipython",
    "version": 3
   },
   "file_extension": ".py",
   "mimetype": "text/x-python",
   "name": "python",
   "nbconvert_exporter": "python",
   "pygments_lexer": "ipython3",
   "version": "3.6.4"
  }
 },
 "nbformat": 4,
 "nbformat_minor": 2
}
