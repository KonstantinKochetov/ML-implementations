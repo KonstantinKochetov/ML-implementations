{
 "cells": [
  {
   "cell_type": "code",
   "execution_count": 1,
   "metadata": {},
   "outputs": [],
   "source": [
    "# import libraries\n",
    "import matplotlib.pyplot as plt\n",
    "from mpl_toolkits.mplot3d import Axes3D\n",
    "# display matplotlib graph's within notebook\n",
    "%matplotlib inline \n",
    "import numpy as np\n",
    "import os\n",
    "\n",
    "np.set_printoptions(precision=3,suppress=True)"
   ]
  },
  {
   "cell_type": "code",
   "execution_count": 2,
   "metadata": {},
   "outputs": [
    {
     "data": {
      "image/png": "[encoded data removed]",
      "text/plain": [
       "<matplotlib.figure.Figure at 0x10b60d128>"
      ]
     },
     "metadata": {},
     "output_type": "display_data"
    },
    {
     "name": "stdout",
     "output_type": "stream",
     "text": [
      "[[ 1.     2.985  3.644]\n",
      " [ 1.     2.65   1.959]\n",
      " [ 1.     0.955  3.008]\n",
      " [ 1.    -0.437  4.73 ]\n",
      " [ 1.     4.169  0.752]]\n",
      "[1. 1. 1. 1. 1.]\n"
     ]
    }
   ],
   "source": [
    "num_iters = 1000\n",
    "alpha = 0.2\n",
    "\n",
    "# class 0:\n",
    "# covariance matrix and mean\n",
    "\n",
    "cov0 = np.array([[5,-3],[-3,3]])\n",
    "\n",
    "mean0 = np.array([2.,3])\n",
    "\n",
    "# number of data points\n",
    "m0 = 10\n",
    "# generate m0 gaussian distributed data points with\n",
    "# mean0 and cov0.\n",
    "r0 = np.random.multivariate_normal(mean0, cov0, m0)\n",
    "\n",
    "# covariance matrix\n",
    "cov1 = np.array([[5,-3],[-3,3]])\n",
    "mean1 = np.array([1.,1])\n",
    "m1 = 10\n",
    "r1 = np.random.multivariate_normal(mean1, cov1, m1)\n",
    "\n",
    "plt.scatter(r0[...,0], r0[...,1], c='b', marker='o', label=\"Klasse 0\")\n",
    "plt.scatter(r1[...,0], r1[...,1], c='r', marker='x', label=\"Klasse 1\")\n",
    "plt.xlabel(\"x0\")\n",
    "plt.ylabel(\"x1\")\n",
    "plt.show()\n",
    "\n",
    "X = np.concatenate((r0,r1))\n",
    "X = np.append(np.ones((len(X),1)), X, axis=1)\n",
    "y = np.zeros(len(r0)+len(r1))\n",
    "y[:len(r0),] = 1\n",
    "print(X[:5])\n",
    "print(y[:5])\n",
    "\n",
    "m = len(y)\n",
    "theta = np.array([1.1, 2.0, -.9]) "
   ]
  },
  {
   "cell_type": "code",
   "execution_count": 3,
   "metadata": {},
   "outputs": [
    {
     "data": {
      "text/plain": [
       "Text(0,0.5,'$g(x)$')"
      ]
     },
     "execution_count": 3,
     "metadata": {},
     "output_type": "execute_result"
    },
    {
     "data": {
      "image/png": "[encoded data removed]",
      "text/plain": [
       "<matplotlib.figure.Figure at 0x10b5df550>"
      ]
     },
     "metadata": {},
     "output_type": "display_data"
    }
   ],
   "source": [
    "# Aufgabe  1\n",
    "def sigmoid(z):\n",
    "    return 1 / (1 + np.exp(-z))\n",
    "\n",
    "# test on a few values\n",
    "xx = np.linspace(-5, 5, 1000)\n",
    "\n",
    "# plot sigmoid function vs. x\n",
    "plt.plot(xx, sigmoid(xx))\n",
    "plt.xlabel(r'$x$')\n",
    "plt.ylabel(r'$g(x)$')"
   ]
  },
  {
   "cell_type": "code",
   "execution_count": 4,
   "metadata": {},
   "outputs": [
    {
     "name": "stdout",
     "output_type": "stream",
     "text": [
      "[0.978 0.99  0.575 0.017 1.    0.9   0.299 1.    1.    0.663 0.986 1.\n",
      " 0.475 0.995 1.    0.596 0.971 0.    0.7   0.819]\n"
     ]
    }
   ],
   "source": [
    "# Aufgabe 2\n",
    "def logistic_hypothesis(theta):\n",
    "    def h(X):\n",
    "        y = sigmoid(np.dot(X, theta))\n",
    "        return y\n",
    "    return h\n",
    "\n",
    "\n",
    "# test\n",
    "theta_test_0 = np.array([1.1, 2.0, -.9]) \n",
    "h_test_0 = logistic_hypothesis(theta_test_0)\n",
    "X_test_0 = X.copy()\n",
    "print(h_test_0(X_test_0))"
   ]
  },
  {
   "cell_type": "code",
   "execution_count": 5,
   "metadata": {},
   "outputs": [
    {
     "name": "stdout",
     "output_type": "stream",
     "text": [
      "-47.45712896778677\n"
     ]
    }
   ],
   "source": [
    "# Aufgabe 3\n",
    "def cross_entropy_loss(h, X, y):\n",
    "    def loss(theta):\n",
    "        h = logistic_hypothesis(theta)\n",
    "        temp = np.dot(y, np.log(h(X))) + np.dot((1-y), np.log(1- h(X)))\n",
    "        return temp\n",
    "    return loss\n",
    "\n",
    "\n",
    "# test\n",
    "theta_test_1 = np.array([1.1, 2.0, -.9]) \n",
    "h_test_1 = logistic_hypothesis(theta_test_1)\n",
    "X_test_1 = X.copy()\n",
    "y_test_1 = y.copy()\n",
    "\n",
    "loss_test_1 = cross_entropy_loss(h_test_1, X_test_1, y_test_1)\n",
    "print(loss_test_1(theta_test_1))"
   ]
  },
  {
   "cell_type": "code",
   "execution_count": 6,
   "metadata": {},
   "outputs": [
    {
     "name": "stdout",
     "output_type": "stream",
     "text": [
      "2.3728564483893386\n"
     ]
    }
   ],
   "source": [
    "# Aufgabe 4\n",
    "def cost_function(X, y, h, theta):\n",
    "    loss = cross_entropy_loss(h, X, y)\n",
    "    cost = -1*(1/m) * loss(theta)\n",
    "    return cost\n",
    "\n",
    "\n",
    "# test\n",
    "theta_test_2 = np.array([1.1, 2.0, -.9]) \n",
    "h_test_2 = logistic_hypothesis(theta_test_2)\n",
    "X_test_2 = X.copy()\n",
    "y_test_2 = y.copy()\n",
    "\n",
    "cost_test_2 = cost_function(X_test_2, y_test_2, h_test_2, theta_test_2)\n",
    "print(cost_test_2)"
   ]
  },
  {
   "cell_type": "code",
   "execution_count": 7,
   "metadata": {},
   "outputs": [
    {
     "name": "stdout",
     "output_type": "stream",
     "text": [
      "[ 1.05   1.852 -0.82 ]\n"
     ]
    }
   ],
   "source": [
    "# Aufgabe 5\n",
    "# a) \n",
    "def compute_new_theta(X, y, theta, alpha, h):\n",
    "    theta = theta - np.dot(np.transpose(X), h(X) - y)*(alpha/m)\n",
    "    return theta\n",
    "\n",
    "# test\n",
    "theta_test_3 = np.array([1.1, 2.0, -.9]) \n",
    "h_test_3 = logistic_hypothesis(theta_test_3)\n",
    "X_test_3 = X.copy()\n",
    "y_test_3 = y.copy()\n",
    "\n",
    "theta_test_3 = compute_new_theta(X_test_3, y_test_3, theta_test_3, alpha, h_test_3)\n",
    "print(theta_test_3)"
   ]
  },
  {
   "cell_type": "code",
   "execution_count": 8,
   "metadata": {},
   "outputs": [
    {
     "name": "stdout",
     "output_type": "stream",
     "text": [
      "[-7.611  1.589  2.785]\n"
     ]
    },
    {
     "data": {
      "text/plain": [
       "[<matplotlib.lines.Line2D at 0x1146fa2b0>]"
      ]
     },
     "execution_count": 8,
     "metadata": {},
     "output_type": "execute_result"
    },
    {
     "data": {
      "image/png": "[encoded data removed]",
      "text/plain": [
       "<matplotlib.figure.Figure at 0x11467acf8>"
      ]
     },
     "metadata": {},
     "output_type": "display_data"
    }
   ],
   "source": [
    "# b), c)\n",
    "def gradient_descent(alpha, theta, X, y):\n",
    "    J_history = np.zeros((num_iters, 1))\n",
    "    for i in range(num_iters):\n",
    "        h = logistic_hypothesis(theta)\n",
    "        theta = compute_new_theta(X, y, theta, alpha, h)\n",
    "        for j in range(m):\n",
    "            j = cost_function(X, y, h, theta)\n",
    "            J_history[i] = j\n",
    "    return J_history, theta\n",
    "\n",
    "# test\n",
    "theta_test_4 = np.array([0, 0, 0]) \n",
    "h_test_4 = logistic_hypothesis(theta_test_4)\n",
    "X_test_4 = X.copy()\n",
    "y_test_4 = y.copy()\n",
    "\n",
    "J_history, theta_result = gradient_descent(alpha, theta_test_4, X_test_4, y_test_4)\n",
    "print(theta_result)\n",
    "plt.plot(J_history)"
   ]
  },
  {
   "cell_type": "code",
   "execution_count": 9,
   "metadata": {},
   "outputs": [
    {
     "name": "stdout",
     "output_type": "stream",
     "text": [
      "Y_before till 10:  [1. 1. 1. 1. 1. 1. 1. 1. 1. 1. 0. 0. 0. 0. 0. 0. 0. 0. 0. 0.]\n",
      "Y_after_gradient_descent till 10:  [0.999 0.887 0.908 0.992 0.752 0.999 1.    0.999 0.909 1.    0.025 0.11\n",
      " 0.052 0.037 0.232 0.041 0.02  0.086 0.2   0.053]\n"
     ]
    }
   ],
   "source": [
    "# test Y\n",
    "print(\"Y_before till 10: \", y)\n",
    "h = logistic_hypothesis(theta_result)\n",
    "y_after = h(X)\n",
    "print(\"Y_after_gradient_descent till 10: \", y_after)"
   ]
  },
  {
   "cell_type": "code",
   "execution_count": 12,
   "metadata": {},
   "outputs": [
    {
     "data": {
      "image/png": "[encoded data removed]",
      "text/plain": [
       "<matplotlib.figure.Figure at 0x114697438>"
      ]
     },
     "metadata": {},
     "output_type": "display_data"
    }
   ],
   "source": [
    "def plotDecisionBoundary(theta, X, y):\n",
    "    \n",
    "    plotData(X[:,1:], y)\n",
    "    \n",
    "    # get min and max values\n",
    "    xx = np.array([np.min(X[:,1]), np.max(X[:,1])])\n",
    "    \n",
    "    # get boundary of separation\n",
    "    yy = (- theta[0] - theta[2] * xx) / theta[1]\n",
    "    \n",
    "    plt.plot(xx, yy, lw=1.5)\n",
    "    \n",
    "def plotData(X, y):\n",
    "    \n",
    "    # get indices of 1 and 0 y values\n",
    "    pos = y == 1\n",
    "    neg = y == 0\n",
    "    \n",
    "    # plot positive (i.e., accepted) points\n",
    "    plt.plot(X[pos,0], X[pos,1], '+', color='k', ms=7,\n",
    "             mew=2, label=r'Admitted')\n",
    "    \n",
    "    # plot negative (i.e., not accepted) points\n",
    "    plt.plot(X[neg,0], X[neg,1], 'o', color='y', ms=7,\n",
    "            label=r'Not Admitted')\n",
    "    \n",
    "    # axes labels\n",
    "    plt.xlabel(r'Exam 1 Score')\n",
    "    plt.ylabel(r'Exam 2 Score')\n",
    "    \n",
    "    # add legend\n",
    "    plt.legend(loc='best', fontsize=8, numpoints=1)\n",
    "\n",
    "plotDecisionBoundary(theta_result, X, y)"
   ]
  },
  {
   "cell_type": "code",
   "execution_count": null,
   "metadata": {},
   "outputs": [],
   "source": []
  }
 ],
 "metadata": {
  "kernelspec": {
   "display_name": "Python 3",
   "language": "python",
   "name": "python3"
  },
  "language_info": {
   "codemirror_mode": {
    "name": "ipython",
    "version": 3
   },
   "file_extension": ".py",
   "mimetype": "text/x-python",
   "name": "python",
   "nbconvert_exporter": "python",
   "pygments_lexer": "ipython3",
   "version": "3.6.4"
  }
 },
 "nbformat": 4,
 "nbformat_minor": 2
}
