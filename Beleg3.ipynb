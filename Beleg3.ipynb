{
 "cells": [
  {
   "cell_type": "code",
   "execution_count": 1,
   "metadata": {},
   "outputs": [],
   "source": [
    "# import libraries\n",
    "import matplotlib.pyplot as plt\n",
    "from mpl_toolkits.mplot3d import Axes3D\n",
    "# display matplotlib graph's within notebook\n",
    "%matplotlib inline \n",
    "import numpy as np\n",
    "import os\n",
    "\n",
    "np.set_printoptions(precision=3,suppress=True)"
   ]
  },
  {
   "cell_type": "code",
   "execution_count": 2,
   "metadata": {},
   "outputs": [
    {
     "data": {
      "image/png": "[encoded data removed]",
      "text/plain": [
       "<matplotlib.figure.Figure at 0x10b88f128>"
      ]
     },
     "metadata": {},
     "output_type": "display_data"
    },
    {
     "name": "stdout",
     "output_type": "stream",
     "text": [
      "[[ 1.    -0.635  4.35 ]\n",
      " [ 1.     2.595  3.568]\n",
      " [ 1.     2.141  3.867]\n",
      " [ 1.     5.919  2.122]\n",
      " [ 1.     3.531  2.849]\n",
      " [ 1.     2.684  3.098]\n",
      " [ 1.     3.855  1.803]\n",
      " [ 1.     2.758  2.084]\n",
      " [ 1.     3.658  4.163]\n",
      " [ 1.     1.201  2.716]\n",
      " [ 1.     7.925 -3.702]\n",
      " [ 1.     4.418 -0.923]\n",
      " [ 1.     3.82  -0.694]\n",
      " [ 1.     0.787  2.946]\n",
      " [ 1.     1.459  1.256]\n",
      " [ 1.     1.076  0.895]\n",
      " [ 1.     3.122 -0.673]\n",
      " [ 1.    -2.592  3.007]\n",
      " [ 1.     2.469  1.729]\n",
      " [ 1.     3.839 -1.263]]\n",
      "[1. 1. 1. 1. 1. 1. 1. 1. 1. 1. 0. 0. 0. 0. 0. 0. 0. 0. 0. 0.]\n"
     ]
    }
   ],
   "source": [
    "num_iters = 1000\n",
    "alpha = 0.2\n",
    "\n",
    "# class 0:\n",
    "# covariance matrix and mean\n",
    "\n",
    "cov0 = np.array([[5,-3],[-3,3]])\n",
    "\n",
    "mean0 = np.array([2.,3])\n",
    "\n",
    "# number of data points\n",
    "m0 = 10\n",
    "# generate m0 gaussian distributed data points with\n",
    "# mean0 and cov0.\n",
    "r0 = np.random.multivariate_normal(mean0, cov0, m0)\n",
    "\n",
    "# covariance matrix\n",
    "cov1 = np.array([[5,-3],[-3,3]])\n",
    "mean1 = np.array([1.,1])\n",
    "m1 = 10\n",
    "r1 = np.random.multivariate_normal(mean1, cov1, m1)\n",
    "\n",
    "plt.scatter(r0[...,0], r0[...,1], c='b', marker='o', label=\"Klasse 0\")\n",
    "plt.scatter(r1[...,0], r1[...,1], c='r', marker='x', label=\"Klasse 1\")\n",
    "plt.xlabel(\"x0\")\n",
    "plt.ylabel(\"x1\")\n",
    "plt.show()\n",
    "\n",
    "X = np.concatenate((r0,r1))\n",
    "X = np.append(np.ones((len(X),1)), X, axis=1)\n",
    "y = np.zeros(len(r0)+len(r1))\n",
    "y[:len(r0),] = 1\n",
    "print(X)\n",
    "print(y)\n",
    "\n",
    "m = len(y)\n",
    "theta = np.array([1.1, 2.0, -.9]) "
   ]
  },
  {
   "cell_type": "code",
   "execution_count": 3,
   "metadata": {},
   "outputs": [
    {
     "data": {
      "text/plain": [
       "Text(0,0.5,'$g(x)$')"
      ]
     },
     "execution_count": 3,
     "metadata": {},
     "output_type": "execute_result"
    },
    {
     "data": {
      "image/png": "[encoded data removed]",
      "text/plain": [
       "<matplotlib.figure.Figure at 0x1097c5f28>"
      ]
     },
     "metadata": {},
     "output_type": "display_data"
    }
   ],
   "source": [
    "# Aufgabe  1\n",
    "def sigmoid(z):\n",
    "    return 1 / (1 + np.exp(-z))\n",
    "\n",
    "# test on a few values\n",
    "xx = np.linspace(-5, 5, 1000)\n",
    "\n",
    "# plot sigmoid function vs. x\n",
    "plt.plot(xx, sigmoid(xx))\n",
    "plt.xlabel(r'$x$')\n",
    "plt.ylabel(r'$g(x)$')"
   ]
  },
  {
   "cell_type": "code",
   "execution_count": 4,
   "metadata": {},
   "outputs": [
    {
     "name": "stdout",
     "output_type": "stream",
     "text": [
      "[0.017 0.956 0.87  1.    0.996 0.975 0.999 0.991 0.991 0.742 1.    1.\n",
      " 1.    0.506 0.947 0.92  1.    0.001 0.989 1.   ]\n"
     ]
    }
   ],
   "source": [
    "# Aufgabe 2\n",
    "def logistic_hypothesis(theta):\n",
    "    def h(X):\n",
    "        y = sigmoid(np.dot(X, theta))\n",
    "        return y\n",
    "    return h\n",
    "\n",
    "\n",
    "# test\n",
    "theta_test_0 = np.array([1.1, 2.0, -.9]) \n",
    "h_test_0 = logistic_hypothesis(theta_test_0)\n",
    "X_test_0 = X.copy()\n",
    "print(h_test_0(X_test_0))"
   ]
  },
  {
   "cell_type": "code",
   "execution_count": 5,
   "metadata": {},
   "outputs": [
    {
     "name": "stdout",
     "output_type": "stream",
     "text": [
      "-73.57817104208345\n"
     ]
    }
   ],
   "source": [
    "# Aufgabe 3\n",
    "def cross_entropy_loss(h, X, y):\n",
    "    def loss(theta):\n",
    "        h = logistic_hypothesis(theta)\n",
    "        temp = np.dot(y, np.log(h(X))) + np.dot((1-y), np.log(1- h(X)))\n",
    "        return temp\n",
    "    return loss\n",
    "\n",
    "\n",
    "# test\n",
    "theta_test_1 = np.array([1.1, 2.0, -.9]) \n",
    "h_test_1 = logistic_hypothesis(theta_test_1)\n",
    "X_test_1 = X.copy()\n",
    "y_test_1 = y.copy()\n",
    "\n",
    "loss_test_1 = cross_entropy_loss(h_test_1, X_test_1, y_test_1)\n",
    "print(loss_test_1(theta_test_1))"
   ]
  },
  {
   "cell_type": "code",
   "execution_count": 6,
   "metadata": {},
   "outputs": [
    {
     "name": "stdout",
     "output_type": "stream",
     "text": [
      "3.678908552104173\n"
     ]
    }
   ],
   "source": [
    "# Aufgabe 4\n",
    "def cost_function(X, y, h, theta):\n",
    "    loss = cross_entropy_loss(h, X, y)\n",
    "    cost = -1*(1/m) * loss(theta)\n",
    "    return cost\n",
    "\n",
    "# test\n",
    "theta_test_2 = np.array([1.1, 2.0, -.9]) \n",
    "h_test_2 = logistic_hypothesis(theta_test_2)\n",
    "X_test_2 = X.copy()\n",
    "y_test_2 = y.copy()\n",
    "\n",
    "cost_test_2 = cost_function(X_test_2, y_test_2, h_test_2, theta_test_2)\n",
    "print(cost_test_2)"
   ]
  },
  {
   "cell_type": "code",
   "execution_count": 39,
   "metadata": {},
   "outputs": [
    {
     "name": "stdout",
     "output_type": "stream",
     "text": [
      "[ 1.031  1.719 -0.822]\n"
     ]
    }
   ],
   "source": [
    "# Aufgabe 5\n",
    "# a) \n",
    "def compute_new_theta(X, y, theta, alpha, h):\n",
    "    theta = theta - np.dot(np.transpose(X), h(X) - y)*(alpha/m)\n",
    "    return theta\n",
    "\n",
    "# test\n",
    "theta_test_3 = np.array([1.1, 2.0, -.9]) \n",
    "h_test_3 = logistic_hypothesis(theta_test_3)\n",
    "X_test_3 = X.copy()\n",
    "y_test_3 = y.copy()\n",
    "\n",
    "theta_test_3 = compute_new_theta(X_test_3, y_test_3, theta_test_3, alpha, h_test_3)\n",
    "print(theta_test_3)"
   ]
  },
  {
   "cell_type": "code",
   "execution_count": 8,
   "metadata": {},
   "outputs": [
    {
     "data": {
      "text/plain": [
       "[<matplotlib.lines.Line2D at 0x114997d68>]"
      ]
     },
     "execution_count": 8,
     "metadata": {},
     "output_type": "execute_result"
    },
    {
     "data": {
      "image/png": "[encoded data removed]",
      "text/plain": [
       "<matplotlib.figure.Figure at 0x11490eb38>"
      ]
     },
     "metadata": {},
     "output_type": "display_data"
    }
   ],
   "source": [
    "# b), c)\n",
    "def gradient_descent(alpha, theta, X, y):\n",
    "    J_history = np.zeros((num_iters, 1))\n",
    "    for i in range(num_iters):\n",
    "        h = logistic_hypothesis(theta)\n",
    "        theta = compute_new_theta(X, y, theta, alpha, h)\n",
    "        for j in range(m):\n",
    "            j = cost_function(X, y, h, theta)\n",
    "            J_history[i] = j\n",
    "    return J_history, theta\n",
    "\n",
    "# test\n",
    "theta_test_4 = np.array([0, 0, 0]) \n",
    "h_test_4 = logistic_hypothesis(theta_test_4)\n",
    "X_test_4 = X.copy()\n",
    "y_test_4 = y.copy()\n",
    "\n",
    "J_history, theta_result = gradient_descent(alpha, theta_test_4, X_test_4, y_test_4)\n",
    "plt.plot(J_history)"
   ]
  },
  {
   "cell_type": "code",
   "execution_count": 9,
   "metadata": {},
   "outputs": [
    {
     "name": "stdout",
     "output_type": "stream",
     "text": [
      "Y_before till 10:  [1. 1. 1. 1. 1. 1. 1. 1. 1. 1.]\n",
      "Y_after_gradient_descent till 10:  [0.86  0.981 0.982 0.991 0.97  0.954 0.84  0.726 0.998 0.622]\n"
     ]
    }
   ],
   "source": [
    "# test Y\n",
    "print(\"Y_before till 10: \", y[:10])\n",
    "h = logistic_hypothesis(theta_result)\n",
    "y_after = h(X)\n",
    "print(\"Y_after_gradient_descent till 10: \", y_after[:10])"
   ]
  },
  {
   "cell_type": "code",
   "execution_count": 10,
   "metadata": {},
   "outputs": [
    {
     "data": {
      "image/png": "[encoded data removed]",
      "text/plain": [
       "<matplotlib.figure.Figure at 0x1148c6c50>"
      ]
     },
     "metadata": {},
     "output_type": "display_data"
    }
   ],
   "source": [
    "# Aufgabe 6\n",
    "def plot3D(X, y, theta_result):\n",
    "    \n",
    "    # data\n",
    "    data = np.c_[X[:, 1], X[:, 2], y]\n",
    "    \n",
    "    # negative/positive points\n",
    "    pos = y >= 0.5\n",
    "    neg = y <= 0.5\n",
    "    \n",
    "    X_0_pos = X[pos,1]\n",
    "    X_0_pos = X_0_pos.reshape(len(X_0_pos), 1)\n",
    "    X_1_pos = X[pos,2]\n",
    "    X_1_pos = X_1_pos.reshape(len(X_1_pos), 1)\n",
    "    Y_pos = y[pos]\n",
    "    Y_pos = Y_pos.reshape(len(Y_pos), 1)\n",
    "    \n",
    "    X_0_neg = X[neg,1]\n",
    "    X_0_neg = X_0_neg.reshape(len(X_0_neg), 1)\n",
    "    X_1_neg = X[neg,2]\n",
    "    X_1_neg = X_1_neg.reshape(len(X_1_neg), 1)\n",
    "    Y_neg = y[neg]\n",
    "    Y_neg = Y_neg.reshape(len(Y_neg), 1)\n",
    "    \n",
    "    # plot plane\n",
    "    mn = np.min(data, axis=0)\n",
    "    mx = np.max(data, axis=0)\n",
    "    X,Y = np.meshgrid(np.linspace(mn[0], mx[0], 20), np.linspace(mn[1], mx[1], 20))\n",
    "    Z = theta_result[1]*X + theta_result[2]*Y + theta_result[0]  \n",
    "    fig1 =  plt.figure(figsize=(10, 10))\n",
    "    ax = fig1.gca(projection='3d')\n",
    "    ax.plot_surface(X, Y, Z, rstride=1, cstride=1, alpha=0.2)\n",
    "    \n",
    "    # plot points\n",
    "    ax.scatter(X_0_neg, X_1_neg, Y_neg, c='g', s=50)\n",
    "    ax.scatter(X_0_pos, X_1_pos, Y_pos, c='r', s=50)\n",
    "    \n",
    "    # plot finish\n",
    "    plt.xlabel('X')\n",
    "    plt.ylabel('Y')\n",
    "    ax.set_zlabel('Z')\n",
    "    ax.axis('equal')\n",
    "    ax.axis('tight')\n",
    "    \n",
    "    # rotate\n",
    "    for angle in range(0, 360):\n",
    "        ax.view_init(25, angle)\n",
    "\n",
    "# test\n",
    "X_test = X.copy()\n",
    "y_after_test = y_after.copy()\n",
    "theta_result_test = theta_result.copy()\n",
    "plot3D(X_test, y_after, theta_result_test)"
   ]
  },
  {
   "cell_type": "code",
   "execution_count": 11,
   "metadata": {},
   "outputs": [
    {
     "name": "stdout",
     "output_type": "stream",
     "text": [
      "High five! You successfully sent some data to your account on plotly. View your plot in your browser at https://plot.ly/~kochetov0824/0 or inside your plot.ly account where it is named 'test1'\n"
     ]
    }
   ],
   "source": [
    "# Plotting 3d mit Plotly\n",
    "\n",
    "from mpl_toolkits.mplot3d import Axes3D\n",
    "import matplotlib.pyplot as plt\n",
    "\n",
    "# Import plotly package\n",
    "import plotly\n",
    "import plotly.graph_objs as go\n",
    "\n",
    "# Check ploltly version\n",
    "plotly.__version__\n",
    "\n",
    "# To communicate with Plotly's server, sign in with credentials file\n",
    "import plotly.plotly as py\n",
    "\n",
    "def plotly3D(X, y, theta):\n",
    "    \n",
    "    data = np.c_[X[:, 1], X[:, 2], y]\n",
    "    \n",
    "    pos = y >= 0.5\n",
    "    neg = y <= 0.5 \n",
    "    \n",
    "    # plot points and fitted surface using Plotly\n",
    "    X_0_pos = X[pos,1]\n",
    "    X_0_pos = X_0_pos.reshape(len(X_0_pos), 1)\n",
    "    X_1_pos = X[pos,2]\n",
    "    X_1_pos = X_1_pos.reshape(len(X_1_pos), 1)\n",
    "    Y_pos = y[pos]\n",
    "    Y_pos = Y_pos.reshape(len(Y_pos), 1)\n",
    "    \n",
    "    X_0_neg = X[neg,1]\n",
    "    X_0_neg = X_0_neg.reshape(len(X_0_neg), 1)\n",
    "    X_1_neg = X[neg,2]\n",
    "    X_1_neg = X_1_neg.reshape(len(X_1_neg), 1)\n",
    "    Y_neg = y[neg]\n",
    "    Y_neg = Y_neg.reshape(len(Y_neg), 1)\n",
    "    \n",
    "    data0 = np.c_[X_0_pos, X_1_pos, Y_pos]\n",
    "    data1 = np.c_[X_0_neg, X_1_neg, Y_neg]\n",
    "    \n",
    "    mn = np.min(data, axis=0)\n",
    "    mx = np.max(data, axis=0)\n",
    "    X,Y = np.meshgrid(np.linspace(mn[0], mx[0], 20), np.linspace(mn[1], mx[1], 20))\n",
    "    XX = X.flatten()\n",
    "    YY = Y.flatten()\n",
    "        \n",
    "    # best-fit linear plane (1st-order)\n",
    "    A = np.c_[data[:,0], data[:,1], np.ones(data.shape[0])]\n",
    "    \n",
    "    # evaluate it on grid\n",
    "    Z = theta_result[1]*X + theta_result[2]*Y + theta_result[0] \n",
    "    \n",
    "    trace0 = go.Scatter3d(\n",
    "        x=data0[:,0],\n",
    "        y=data0[:,1],\n",
    "        z=data0[:,2],\n",
    "        mode='markers',\n",
    "        marker=dict(size=4, color='green', line=dict(color='black', width=0.5), opacity=0.8)\n",
    "    )\n",
    "    \n",
    "    trace1 = go.Scatter3d(\n",
    "        x=data1[:,0],\n",
    "        y=data1[:,1],\n",
    "        z=data1[:,2],\n",
    "        mode='markers',\n",
    "        marker=dict(size=4, color='red', line=dict(color='black', width=0.5), opacity=0.8)\n",
    "    )\n",
    "    \n",
    "    trace2 = go.Surface(z=Z, x=X, y=Y, colorscale='RdBu', opacity=0.999)\n",
    "    \n",
    "    # Package the trace dictionary into a data object\n",
    "    data_test1 = go.Data([trace0, trace1, trace2])\n",
    "    \n",
    "    # Dictionary of style options for all axes\n",
    "    axis = dict(\n",
    "        showbackground=True, # show axis background\n",
    "        backgroundcolor=\"rgb(204, 204, 204)\", # set background color to grey\n",
    "        gridcolor=\"rgb(255, 255, 255)\",       # set grid line color\n",
    "        zerolinecolor=\"rgb(255, 255, 255)\",   # set zero grid line color\n",
    "    )\n",
    "    \n",
    "    # Make a layout object\n",
    "    layout = go.Layout(\n",
    "        title='1st-order (linear) plane', # set plot title\n",
    "        scene=go.Scene(  # axes are part of a 'scene' in 3d plots\n",
    "            xaxis=go.XAxis(axis), # set x-axis style\n",
    "            yaxis=go.YAxis(axis), # set y-axis style\n",
    "            zaxis=go.ZAxis(axis)),  # set z-axis style\n",
    "    )\n",
    "    \n",
    "    # Make a figure object\n",
    "    fig = go.Figure(data=data_test1, layout=layout)\n",
    "    \n",
    "    # Send to Plotly and show in notebook\n",
    "    py.iplot(fig, filename='test1')\n",
    "\n",
    "# test\n",
    "X_test = X.copy()\n",
    "y_after_test = y_after.copy()\n",
    "theta_result_test = theta_result.copy()\n",
    "plotly3D(X_test, y_after, theta_result_test)"
   ]
  },
  {
   "cell_type": "code",
   "execution_count": 12,
   "metadata": {},
   "outputs": [
    {
     "name": "stdout",
     "output_type": "stream",
     "text": [
      "0.05\n"
     ]
    }
   ],
   "source": [
    "# Aufgabe 7\n",
    "# Klassifikationsfehler = Anzahl der falsch-klassifizierten Datensätze / Anzahl der Datensätze\n",
    "def classif_error(y_after, y):\n",
    "    m = len(y)\n",
    "    counter = 0\n",
    "    for i in range(m):\n",
    "        if (y_after[i] >= 0.5):\n",
    "            y_after[i] = 1\n",
    "        else:\n",
    "            y_after[i] = 0\n",
    "            \n",
    "        if (y_after[i] != y[i]):\n",
    "            counter = counter + 1          \n",
    "    return counter / m\n",
    "\n",
    "# test\n",
    "y_after_test_7 = y_after.copy()\n",
    "y_test_7 = y.copy()\n",
    "error_number = classif_error(y_after_test_7, y_test_7)\n",
    "print(error_number)"
   ]
  },
  {
   "cell_type": "markdown",
   "metadata": {},
   "source": [
    "![title](cost_reg.png)"
   ]
  },
  {
   "cell_type": "code",
   "execution_count": 13,
   "metadata": {},
   "outputs": [
    {
     "name": "stdout",
     "output_type": "stream",
     "text": [
      "3.799158552104173\n"
     ]
    }
   ],
   "source": [
    "# Aufgabe 8\n",
    "def cost_function_reg(X, y, h, theta, lambda_reg):\n",
    "    loss = cross_entropy_loss(h, X, y)\n",
    "    cost = -1*(1/m) * loss(theta) + (lambda_reg/(2*m))*np.sum(np.square(theta[1:]))\n",
    "    return cost\n",
    "\n",
    "# test\n",
    "theta_test_8 = np.array([1.1, 2.0, -.9]) \n",
    "h_test_8 = logistic_hypothesis(theta_test_8)\n",
    "X_test_8 = X.copy()\n",
    "y_test_8 = y.copy()\n",
    "lambda_reg_test_8 = 1\n",
    "\n",
    "cost_test_8 = cost_function_reg(X_test_8, y_test_8, h_test_8, theta_test_8, lambda_reg_test_8)\n",
    "print(cost_test_8)"
   ]
  },
  {
   "cell_type": "markdown",
   "metadata": {},
   "source": [
    "![title](gradient_reg.png)"
   ]
  },
  {
   "cell_type": "code",
   "execution_count": 92,
   "metadata": {},
   "outputs": [
    {
     "name": "stdout",
     "output_type": "stream",
     "text": [
      "[ 1.031  1.699 -0.813]\n"
     ]
    }
   ],
   "source": [
    "# Aufgabe 9 \n",
    "def compute_new_theta_reg(X, y, theta, alpha, h, lam):\n",
    "    \n",
    "    # make an array of lambdas \n",
    "    lamarray = np.ones(len(theta)) * lam\n",
    "    \n",
    "    # zero out first element so se don't regularize constant term\n",
    "    lamarray[0] = 0.0\n",
    "    \n",
    "    # number of training samples\n",
    "    m = len(y)\n",
    "    \n",
    "    grad = theta - (alpha * ((np.dot(np.transpose(X), h(X) - y)) * (1/m) + (lamarray * theta) * (1/m)))  \n",
    "            \n",
    "    return grad\n",
    "    \n",
    "\n",
    "# test\n",
    "theta_test_9 = np.array([1.1, 2.0, -.9])\n",
    "h_test_9 = logistic_hypothesis(theta_test_9)\n",
    "X_test_9 = X.copy()\n",
    "y_test_9 = y.copy()\n",
    "lambda_reg_test_9 = 1\n",
    "\n",
    "theta_result_9 = compute_new_theta_reg(X_test_9, y_test_9, theta_test_9, alpha, h_test_9, lambda_reg_test_9)\n",
    "print(theta_result_9)"
   ]
  },
  {
   "cell_type": "code",
   "execution_count": 97,
   "metadata": {},
   "outputs": [
    {
     "data": {
      "text/plain": [
       "[<matplotlib.lines.Line2D at 0x1181c4ac8>]"
      ]
     },
     "execution_count": 97,
     "metadata": {},
     "output_type": "execute_result"
    },
    {
     "data": {
      "image/png": "[encoded data removed]",
      "text/plain": [
       "<matplotlib.figure.Figure at 0x1180ca208>"
      ]
     },
     "metadata": {},
     "output_type": "display_data"
    }
   ],
   "source": [
    "# b), c)\n",
    "def gradient_descent_reg(alpha, theta, X, y, lam):\n",
    "    J_history = np.zeros((num_iters, 1))\n",
    "    for i in range(num_iters):\n",
    "        h = logistic_hypothesis(theta)\n",
    "        theta = compute_new_theta_reg(X, y, theta, alpha, h, lam)\n",
    "        for j in range(m):\n",
    "            j = cost_function_reg(X, y, h, theta, lam)\n",
    "            J_history[i] = j\n",
    "    return J_history, theta\n",
    "\n",
    "# test\n",
    "theta_test_11 = np.array([0, 0, 0]) \n",
    "h_test_11 = logistic_hypothesis(theta_test_4)\n",
    "X_test_11 = X.copy()\n",
    "y_test_11 = y.copy()\n",
    "lambda_reg_test_11 = 10\n",
    "\n",
    "J_history, theta_result = gradient_descent_reg(alpha, theta_test_11, X_test_11, y_test_11, lambda_reg_test_11)\n",
    "plt.plot(J_history)"
   ]
  },
  {
   "cell_type": "code",
   "execution_count": 95,
   "metadata": {},
   "outputs": [
    {
     "name": "stdout",
     "output_type": "stream",
     "text": [
      "Y_before till 10:  [1. 1. 1. 1. 1. 1. 1. 1. 1. 1.]\n",
      "Y_after_gradient_descent till 10:  [0.792 0.937 0.942 0.959 0.915 0.889 0.746 0.654 0.988 0.587]\n"
     ]
    }
   ],
   "source": [
    "# test Y\n",
    "print(\"Y_before till 10: \", y[:10])\n",
    "h = logistic_hypothesis(theta_result)\n",
    "y_after = h(X)\n",
    "print(\"Y_after_gradient_descent till 10: \", y_after[:10])"
   ]
  },
  {
   "cell_type": "code",
   "execution_count": null,
   "metadata": {},
   "outputs": [],
   "source": []
  }
 ],
 "metadata": {
  "kernelspec": {
   "display_name": "Python 3",
   "language": "python",
   "name": "python3"
  },
  "language_info": {
   "codemirror_mode": {
    "name": "ipython",
    "version": 3
   },
   "file_extension": ".py",
   "mimetype": "text/x-python",
   "name": "python",
   "nbconvert_exporter": "python",
   "pygments_lexer": "ipython3",
   "version": "3.6.4"
  }
 },
 "nbformat": 4,
 "nbformat_minor": 2
}
