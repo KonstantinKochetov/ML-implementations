{
 "cells": [
  {
   "cell_type": "code",
   "execution_count": 1,
   "metadata": {},
   "outputs": [],
   "source": [
    "# import libraries\n",
    "import matplotlib.pyplot as plt\n",
    "from mpl_toolkits.mplot3d import Axes3D\n",
    "# display matplotlib graph's within notebook\n",
    "%matplotlib inline \n",
    "import numpy as np\n",
    "import os\n",
    "\n",
    "np.set_printoptions(precision=3,suppress=True)"
   ]
  },
  {
   "cell_type": "code",
   "execution_count": 2,
   "metadata": {},
   "outputs": [
    {
     "data": {
      "image/png": "[encoded data removed]",
      "text/plain": [
       "<matplotlib.figure.Figure at 0x10d1e92b0>"
      ]
     },
     "metadata": {},
     "output_type": "display_data"
    },
    {
     "name": "stdout",
     "output_type": "stream",
     "text": [
      "[[ 1.     3.984  2.292]\n",
      " [ 1.     4.303  0.528]\n",
      " [ 1.     2.702  2.298]\n",
      " [ 1.     0.975  1.387]\n",
      " [ 1.     3.354  2.198]\n",
      " [ 1.    -0.509  2.263]\n",
      " [ 1.     0.372  5.01 ]\n",
      " [ 1.     0.965  4.126]\n",
      " [ 1.     0.733  5.486]\n",
      " [ 1.     1.102  2.8  ]]\n",
      "[1. 1. 1. 1. 1. 1. 1. 1. 1. 1.]\n"
     ]
    }
   ],
   "source": [
    "num_iters = 1000\n",
    "alpha = 0.2\n",
    "\n",
    "# class 0:\n",
    "# covariance matrix and mean\n",
    "\n",
    "cov0 = np.array([[5,-3],[-3,3]])\n",
    "\n",
    "mean0 = np.array([2.,3])\n",
    "\n",
    "# number of data points\n",
    "m0 = 100\n",
    "# generate m0 gaussian distributed data points with\n",
    "# mean0 and cov0.\n",
    "r0 = np.random.multivariate_normal(mean0, cov0, m0)\n",
    "\n",
    "# covariance matrix\n",
    "cov1 = np.array([[5,-3],[-3,3]])\n",
    "mean1 = np.array([1.,1])\n",
    "m1 = 100\n",
    "r1 = np.random.multivariate_normal(mean1, cov1, m1)\n",
    "\n",
    "plt.scatter(r0[...,0], r0[...,1], c='b', marker='o', label=\"Klasse 0\")\n",
    "plt.scatter(r1[...,0], r1[...,1], c='r', marker='x', label=\"Klasse 1\")\n",
    "plt.xlabel(\"x0\")\n",
    "plt.ylabel(\"x1\")\n",
    "plt.show()\n",
    "\n",
    "X = np.concatenate((r0,r1))\n",
    "X = np.append(np.ones((len(X),1)), X, axis=1)\n",
    "y = np.zeros(len(r0)+len(r1))\n",
    "y[:len(r0),] = 1\n",
    "print(X[:10])\n",
    "print(y[:10])\n",
    "\n",
    "m = len(y)\n",
    "theta = np.array([1.1, 2.0, -.9]) "
   ]
  },
  {
   "cell_type": "code",
   "execution_count": 3,
   "metadata": {},
   "outputs": [
    {
     "data": {
      "text/plain": [
       "Text(0,0.5,'$g(x)$')"
      ]
     },
     "execution_count": 3,
     "metadata": {},
     "output_type": "execute_result"
    },
    {
     "data": {
      "image/png": "[encoded data removed]",
      "text/plain": [
       "<matplotlib.figure.Figure at 0x10b1afe80>"
      ]
     },
     "metadata": {},
     "output_type": "display_data"
    }
   ],
   "source": [
    "# Aufgabe  1\n",
    "def sigmoid(z):\n",
    "    return 1 / (1 + np.exp(-z))\n",
    "\n",
    "# test on a few values\n",
    "xx = np.linspace(-5, 5, 1000)\n",
    "\n",
    "# plot sigmoid function vs. x\n",
    "plt.plot(xx, sigmoid(xx))\n",
    "plt.xlabel(r'$x$')\n",
    "plt.ylabel(r'$g(x)$')"
   ]
  },
  {
   "cell_type": "code",
   "execution_count": 4,
   "metadata": {},
   "outputs": [],
   "source": [
    "# Aufgabe 2\n",
    "def logistic_hypothesis(theta):\n",
    "    def h(X):\n",
    "        y = sigmoid(np.dot(X, theta))\n",
    "        return y\n",
    "    return h\n",
    "\n",
    "\n",
    "# test\n",
    "theta_test_0 = np.array([1.1, 2.0, -.9]) \n",
    "h_test_0 = logistic_hypothesis(theta_test_0)\n",
    "X_test_0 = X.copy()\n"
   ]
  },
  {
   "cell_type": "code",
   "execution_count": 5,
   "metadata": {},
   "outputs": [
    {
     "name": "stdout",
     "output_type": "stream",
     "text": [
      "-459.39781841350725\n"
     ]
    }
   ],
   "source": [
    "# Aufgabe 3\n",
    "def cross_entropy_loss(h, X, y):\n",
    "    def loss(theta):\n",
    "        h = logistic_hypothesis(theta)\n",
    "        temp = np.dot(y, np.log(h(X))) + np.dot((1-y), np.log(1- h(X)))\n",
    "        return temp\n",
    "    return loss\n",
    "\n",
    "\n",
    "# test\n",
    "theta_test_1 = np.array([1.1, 2.0, -.9]) \n",
    "h_test_1 = logistic_hypothesis(theta_test_1)\n",
    "X_test_1 = X.copy()\n",
    "y_test_1 = y.copy()\n",
    "\n",
    "loss_test_1 = cross_entropy_loss(h_test_1, X_test_1, y_test_1)\n",
    "print(loss_test_1(theta_test_1))"
   ]
  },
  {
   "cell_type": "code",
   "execution_count": 6,
   "metadata": {},
   "outputs": [
    {
     "name": "stdout",
     "output_type": "stream",
     "text": [
      "2.296989092067536\n"
     ]
    }
   ],
   "source": [
    "# Aufgabe 4\n",
    "def cost_function(X, y, h, theta):\n",
    "    loss = cross_entropy_loss(h, X, y)\n",
    "    cost = -1*(1/m) * loss(theta)\n",
    "    return cost\n",
    "\n",
    "# test\n",
    "theta_test_2 = np.array([1.1, 2.0, -.9]) \n",
    "h_test_2 = logistic_hypothesis(theta_test_2)\n",
    "X_test_2 = X.copy()\n",
    "y_test_2 = y.copy()\n",
    "\n",
    "cost_test_2 = cost_function(X_test_2, y_test_2, h_test_2, theta_test_2)\n",
    "print(cost_test_2)"
   ]
  },
  {
   "cell_type": "code",
   "execution_count": 7,
   "metadata": {},
   "outputs": [
    {
     "name": "stdout",
     "output_type": "stream",
     "text": [
      "[ 1.072  1.866 -0.771]\n"
     ]
    }
   ],
   "source": [
    "# Aufgabe 5\n",
    "# a) \n",
    "def compute_new_theta(X, y, theta, alpha, h):\n",
    "    theta = theta - np.dot(np.transpose(X), h(X) - y)*(alpha/m)\n",
    "    return theta\n",
    "\n",
    "# test\n",
    "theta_test_3 = np.array([1.1, 2.0, -.9]) \n",
    "h_test_3 = logistic_hypothesis(theta_test_3)\n",
    "X_test_3 = X.copy()\n",
    "y_test_3 = y.copy()\n",
    "\n",
    "theta_test_3 = compute_new_theta(X_test_3, y_test_3, theta_test_3, alpha, h_test_3)\n",
    "print(theta_test_3)"
   ]
  },
  {
   "cell_type": "code",
   "execution_count": 8,
   "metadata": {},
   "outputs": [
    {
     "data": {
      "text/plain": [
       "[<matplotlib.lines.Line2D at 0x111f8b978>]"
      ]
     },
     "execution_count": 8,
     "metadata": {},
     "output_type": "execute_result"
    },
    {
     "data": {
      "image/png": "[encoded data removed]",
      "text/plain": [
       "<matplotlib.figure.Figure at 0x111f56be0>"
      ]
     },
     "metadata": {},
     "output_type": "display_data"
    }
   ],
   "source": [
    "# b), c)\n",
    "def gradient_descent(alpha, theta, X, y):\n",
    "    J_history = np.zeros((num_iters, 1))\n",
    "    for i in range(num_iters):\n",
    "        h = logistic_hypothesis(theta)\n",
    "        theta = compute_new_theta(X, y, theta, alpha, h)\n",
    "        for j in range(m):\n",
    "            j = cost_function(X, y, h, theta)\n",
    "            J_history[i] = j\n",
    "    return J_history, theta\n",
    "\n",
    "# test\n",
    "theta_test_4 = np.array([0, 0, 0]) \n",
    "h_test_4 = logistic_hypothesis(theta_test_4)\n",
    "X_test_4 = X.copy()\n",
    "y_test_4 = y.copy()\n",
    "\n",
    "J_history, theta_result = gradient_descent(alpha, theta_test_4, X_test_4, y_test_4)\n",
    "plt.plot(J_history)"
   ]
  },
  {
   "cell_type": "code",
   "execution_count": 9,
   "metadata": {},
   "outputs": [
    {
     "name": "stdout",
     "output_type": "stream",
     "text": [
      "Y_before till 10:  [1. 1. 1. 1. 1. 1. 1. 1. 1. 1. 1. 1. 1. 1. 1. 1. 1. 1. 1. 1. 1. 1. 1. 1.\n",
      " 1. 1. 1. 1. 1. 1. 1. 1. 1. 1. 1. 1. 1. 1. 1. 1. 1. 1. 1. 1. 1. 1. 1. 1.\n",
      " 1. 1. 1. 1. 1. 1. 1. 1. 1. 1. 1. 1. 1. 1. 1. 1. 1. 1. 1. 1. 1. 1. 1. 1.\n",
      " 1. 1. 1. 1. 1. 1. 1. 1. 1. 1. 1. 1. 1. 1. 1. 1. 1. 1. 1. 1. 1. 1. 1. 1.\n",
      " 1. 1. 1. 1. 0. 0. 0. 0. 0. 0. 0. 0. 0. 0. 0. 0. 0. 0. 0. 0. 0. 0. 0. 0.\n",
      " 0. 0. 0. 0. 0. 0. 0. 0. 0. 0. 0. 0. 0. 0. 0. 0. 0. 0. 0. 0. 0. 0. 0. 0.\n",
      " 0. 0. 0. 0. 0. 0. 0. 0. 0. 0. 0. 0. 0. 0. 0. 0. 0. 0. 0. 0. 0. 0. 0. 0.\n",
      " 0. 0. 0. 0. 0. 0. 0. 0. 0. 0. 0. 0. 0. 0. 0. 0. 0. 0. 0. 0. 0. 0. 0. 0.\n",
      " 0. 0. 0. 0. 0. 0. 0. 0.]\n",
      "Y_after_gradient_descent till 10:  [0.956 0.635 0.831 0.13  0.899 0.1   0.965 0.929 0.989 0.635]\n"
     ]
    }
   ],
   "source": [
    "# test Y\n",
    "print(\"Y_before till 10: \", y)\n",
    "h = logistic_hypothesis(theta_result)\n",
    "y_after = h(X)\n",
    "print(\"Y_after_gradient_descent till 10: \", y_after[:10])"
   ]
  },
  {
   "cell_type": "code",
   "execution_count": 10,
   "metadata": {},
   "outputs": [
    {
     "data": {
      "image/png": "[encoded data removed]",
      "text/plain": [
       "<matplotlib.figure.Figure at 0x111ec0b38>"
      ]
     },
     "metadata": {},
     "output_type": "display_data"
    }
   ],
   "source": [
    "# Aufgabe 6\n",
    "def plot3D(X, y, theta_result):\n",
    "    \n",
    "    # data\n",
    "    data = np.c_[X[:, 1], X[:, 2], y]\n",
    "    \n",
    "    # negative/positive points\n",
    "    pos = y >= 0.5\n",
    "    neg = y <= 0.5\n",
    "    \n",
    "    X_0_pos = X[pos,1]\n",
    "    X_0_pos = X_0_pos.reshape(len(X_0_pos), 1)\n",
    "    X_1_pos = X[pos,2]\n",
    "    X_1_pos = X_1_pos.reshape(len(X_1_pos), 1)\n",
    "    Y_pos = y[pos]\n",
    "    Y_pos = Y_pos.reshape(len(Y_pos), 1)\n",
    "    \n",
    "    X_0_neg = X[neg,1]\n",
    "    X_0_neg = X_0_neg.reshape(len(X_0_neg), 1)\n",
    "    X_1_neg = X[neg,2]\n",
    "    X_1_neg = X_1_neg.reshape(len(X_1_neg), 1)\n",
    "    Y_neg = y[neg]\n",
    "    Y_neg = Y_neg.reshape(len(Y_neg), 1)\n",
    "    \n",
    "    # plot plane\n",
    "    mn = np.min(data, axis=0)\n",
    "    mx = np.max(data, axis=0)\n",
    "    X,Y = np.meshgrid(np.linspace(mn[0], mx[0], 20), np.linspace(mn[1], mx[1], 20))\n",
    "    Z = theta_result[1]*X + theta_result[2]*Y + theta_result[0]  \n",
    "    fig1 =  plt.figure(figsize=(10, 10))\n",
    "    ax = fig1.gca(projection='3d')\n",
    "    ax.plot_surface(X, Y, Z, rstride=1, cstride=1, alpha=0.2)\n",
    "    \n",
    "    # plot points\n",
    "    ax.scatter(X_0_neg, X_1_neg, Y_neg, c='g', s=50)\n",
    "    ax.scatter(X_0_pos, X_1_pos, Y_pos, c='r', s=50)\n",
    "    \n",
    "    # plot finish\n",
    "    plt.xlabel('X')\n",
    "    plt.ylabel('Y')\n",
    "    ax.set_zlabel('Z')\n",
    "    ax.axis('equal')\n",
    "    ax.axis('tight')\n",
    "    \n",
    "    # rotate\n",
    "    for angle in range(0, 360):\n",
    "        ax.view_init(25, angle)\n",
    "\n",
    "# test\n",
    "X_test = X.copy()\n",
    "y_after_test = y_after.copy()\n",
    "theta_result_test = theta_result.copy()\n",
    "plot3D(X_test, y_after, theta_result_test)"
   ]
  },
  {
   "cell_type": "code",
   "execution_count": 15,
   "metadata": {},
   "outputs": [
    {
     "data": {
      "image/png": "[encoded data removed]",
      "text/plain": [
       "<matplotlib.figure.Figure at 0x1123e1390>"
      ]
     },
     "metadata": {},
     "output_type": "display_data"
    }
   ],
   "source": [
    "\n",
    "\n",
    "\n",
    "# artifical dataset for logistic regression\n",
    "\n",
    "import numpy as np\n",
    "import matplotlib.pyplot as plt\n",
    "\n",
    "# class 0:\n",
    "# covariance matrix and mean\n",
    "theta = theta_result\n",
    "cov0 = np.array([[5,-3],[-3,3]])\n",
    "\n",
    "mean0 = np.array([2.,3])\n",
    "\n",
    "# number of data points\n",
    "m0 = 100\n",
    "# generate m0 gaussian distributed data points with\n",
    "# mean0 and cov0.\n",
    "r0 = np.random.multivariate_normal(mean0, cov0, m0)\n",
    "\n",
    "# covariance matrix\n",
    "cov1 = np.array([[5,-3],[-3,3]])\n",
    "mean1 = np.array([1.,1])\n",
    "m1 = 100\n",
    "r1 = np.random.multivariate_normal(mean1, cov1, m1)\n",
    "\n",
    "plt.scatter(r0[...,0], r0[...,1], c='r', marker='o', label=\"Klasse 0\")\n",
    "plt.scatter(r1[...,0], r1[...,1], c='g', marker='x', label=\"Klasse 1\")\n",
    "plt.xlabel(\"x0\")\n",
    "plt.ylabel(\"x1\")\n",
    "\n",
    "\n",
    "X = np.concatenate((r0,r1))\n",
    "\n",
    "oneVector = np.full((len(X), 1), 1.)\n",
    "X = np.hstack([oneVector, X])\n",
    "\n",
    "y = np.zeros(len(r0)+len(r1))\n",
    "y[:len(r0),] = 1\n",
    "\n",
    "\n",
    "\n",
    "x2 = - (theta[0] + theta[1]*X[:,1]) /theta[2]\n",
    "\n",
    "plt.plot(X[:,1],x2)\n",
    "plt.show()\n",
    "\n"
   ]
  },
  {
   "cell_type": "code",
   "execution_count": null,
   "metadata": {},
   "outputs": [],
   "source": []
  },
  {
   "cell_type": "code",
   "execution_count": null,
   "metadata": {},
   "outputs": [],
   "source": [
    "# Plotting 3d mit Plotly\n",
    "\n",
    "from mpl_toolkits.mplot3d import Axes3D\n",
    "import matplotlib.pyplot as plt\n",
    "\n",
    "# Import plotly package\n",
    "import plotly\n",
    "import plotly.graph_objs as go\n",
    "\n",
    "# Check ploltly version\n",
    "plotly.__version__\n",
    "\n",
    "# To communicate with Plotly's server, sign in with credentials file\n",
    "import plotly.plotly as py\n",
    "\n",
    "def plotly3D(X, y, theta):\n",
    "    \n",
    "    data = np.c_[X[:, 1], X[:, 2], y]\n",
    "    \n",
    "    pos = y >= 0.5\n",
    "    neg = y <= 0.5 \n",
    "    \n",
    "    # plot points and fitted surface using Plotly\n",
    "    X_0_pos = X[pos,1]\n",
    "    X_0_pos = X_0_pos.reshape(len(X_0_pos), 1)\n",
    "    X_1_pos = X[pos,2]\n",
    "    X_1_pos = X_1_pos.reshape(len(X_1_pos), 1)\n",
    "    Y_pos = y[pos]\n",
    "    Y_pos = Y_pos.reshape(len(Y_pos), 1)\n",
    "    \n",
    "    X_0_neg = X[neg,1]\n",
    "    X_0_neg = X_0_neg.reshape(len(X_0_neg), 1)\n",
    "    X_1_neg = X[neg,2]\n",
    "    X_1_neg = X_1_neg.reshape(len(X_1_neg), 1)\n",
    "    Y_neg = y[neg]\n",
    "    Y_neg = Y_neg.reshape(len(Y_neg), 1)\n",
    "    \n",
    "    data0 = np.c_[X_0_pos, X_1_pos, Y_pos]\n",
    "    data1 = np.c_[X_0_neg, X_1_neg, Y_neg]\n",
    "    \n",
    "    mn = np.min(data, axis=0)\n",
    "    mx = np.max(data, axis=0)\n",
    "    X,Y = np.meshgrid(np.linspace(mn[0], mx[0], 20), np.linspace(mn[1], mx[1], 20))\n",
    "    XX = X.flatten()\n",
    "    YY = Y.flatten()\n",
    "        \n",
    "    # best-fit linear plane (1st-order)\n",
    "    A = np.c_[data[:,0], data[:,1], np.ones(data.shape[0])]\n",
    "    \n",
    "    # evaluate it on grid\n",
    "    Z = theta_result[1]*X + theta_result[2]*Y + theta_result[0] \n",
    "    \n",
    "    trace0 = go.Scatter3d(\n",
    "        x=data0[:,0],\n",
    "        y=data0[:,1],\n",
    "        z=data0[:,2],\n",
    "        mode='markers',\n",
    "        marker=dict(size=4, color='green', line=dict(color='black', width=0.5), opacity=0.8)\n",
    "    )\n",
    "    \n",
    "    trace1 = go.Scatter3d(\n",
    "        x=data1[:,0],\n",
    "        y=data1[:,1],\n",
    "        z=data1[:,2],\n",
    "        mode='markers',\n",
    "        marker=dict(size=4, color='red', line=dict(color='black', width=0.5), opacity=0.8)\n",
    "    )\n",
    "    \n",
    "    trace2 = go.Surface(z=Z, x=X, y=Y, colorscale='RdBu', opacity=0.999)\n",
    "    \n",
    "    # Package the trace dictionary into a data object\n",
    "    data_test1 = go.Data([trace0, trace1, trace2])\n",
    "    \n",
    "    # Dictionary of style options for all axes\n",
    "    axis = dict(\n",
    "        showbackground=True, # show axis background\n",
    "        backgroundcolor=\"rgb(204, 204, 204)\", # set background color to grey\n",
    "        gridcolor=\"rgb(255, 255, 255)\",       # set grid line color\n",
    "        zerolinecolor=\"rgb(255, 255, 255)\",   # set zero grid line color\n",
    "    )\n",
    "    \n",
    "    # Make a layout object\n",
    "    layout = go.Layout(\n",
    "        title='1st-order (linear) plane', # set plot title\n",
    "        scene=go.Scene(  # axes are part of a 'scene' in 3d plots\n",
    "            xaxis=go.XAxis(axis), # set x-axis style\n",
    "            yaxis=go.YAxis(axis), # set y-axis style\n",
    "            zaxis=go.ZAxis(axis)),  # set z-axis style\n",
    "    )\n",
    "    \n",
    "    # Make a figure object\n",
    "    fig = go.Figure(data=data_test1, layout=layout)\n",
    "    \n",
    "    # Send to Plotly and show in notebook\n",
    "    py.iplot(fig, filename='test1')\n",
    "\n",
    "# test\n",
    "X_test = X.copy()\n",
    "y_after_test = y_after.copy()\n",
    "theta_result_test = theta_result.copy()\n",
    "plotly3D(X_test, y_after, theta_result_test)"
   ]
  },
  {
   "cell_type": "code",
   "execution_count": null,
   "metadata": {},
   "outputs": [],
   "source": [
    "# Aufgabe 7\n",
    "# Klassifikationsfehler = Anzahl der falsch-klassifizierten Datensätze / Anzahl der Datensätze\n",
    "def classif_error(y_after, y):\n",
    "    m = len(y)\n",
    "    counter = 0\n",
    "    for i in range(m):\n",
    "        if (y_after[i] >= 0.5):\n",
    "            y_after[i] = 1\n",
    "        else:\n",
    "            y_after[i] = 0\n",
    "            \n",
    "        if (y_after[i] != y[i]):\n",
    "            counter = counter + 1          \n",
    "    return counter / m\n",
    "\n",
    "# test\n",
    "y_after_test_7 = y_after.copy()\n",
    "y_test_7 = y.copy()\n",
    "error_number = classif_error(y_after_test_7, y_test_7)\n",
    "print(error_number)"
   ]
  },
  {
   "cell_type": "markdown",
   "metadata": {},
   "source": [
    "![title](cost_reg.png)"
   ]
  },
  {
   "cell_type": "code",
   "execution_count": null,
   "metadata": {},
   "outputs": [],
   "source": [
    "# Aufgabe 8\n",
    "def cost_function_reg(X, y, h, theta, lambda_reg):\n",
    "    loss = cross_entropy_loss(h, X, y)\n",
    "    cost = -1*(1/m) * loss(theta) + (lambda_reg/(2*m))*np.sum(np.square(theta[1:]))\n",
    "    return cost\n",
    "\n",
    "# test\n",
    "theta_test_8 = np.array([1.1, 2.0, -.9]) \n",
    "h_test_8 = logistic_hypothesis(theta_test_8)\n",
    "X_test_8 = X.copy()\n",
    "y_test_8 = y.copy()\n",
    "lambda_reg_test_8 = 1\n",
    "\n",
    "cost_test_8 = cost_function_reg(X_test_8, y_test_8, h_test_8, theta_test_8, lambda_reg_test_8)\n",
    "print(cost_test_8)"
   ]
  },
  {
   "cell_type": "markdown",
   "metadata": {},
   "source": [
    "![title](gradient_reg.png)"
   ]
  },
  {
   "cell_type": "code",
   "execution_count": null,
   "metadata": {},
   "outputs": [],
   "source": [
    "# Aufgabe 9 \n",
    "def compute_new_theta_reg(X, y, theta, alpha, h, lam):\n",
    "    \n",
    "    # make an array of lambdas \n",
    "    lamarray = np.ones(len(theta)) * lam\n",
    "    \n",
    "    # zero out first element so se don't regularize constant term\n",
    "    lamarray[0] = 0.0\n",
    "    \n",
    "    # number of training samples\n",
    "    m = len(y)\n",
    "    \n",
    "    grad = theta - (alpha * ((np.dot(np.transpose(X), h(X) - y)) * (1/m) + (lamarray * theta) * (1/m)))  \n",
    "            \n",
    "    return grad\n",
    "    \n",
    "\n",
    "# test\n",
    "theta_test_9 = np.array([1.1, 2.0, -.9])\n",
    "h_test_9 = logistic_hypothesis(theta_test_9)\n",
    "X_test_9 = X.copy()\n",
    "y_test_9 = y.copy()\n",
    "lambda_reg_test_9 = 1\n",
    "\n",
    "theta_result_9 = compute_new_theta_reg(X_test_9, y_test_9, theta_test_9, alpha, h_test_9, lambda_reg_test_9)"
   ]
  },
  {
   "cell_type": "code",
   "execution_count": null,
   "metadata": {},
   "outputs": [],
   "source": [
    "# b), c)\n",
    "def gradient_descent_reg(alpha, theta, X, y, lam):\n",
    "    J_history = np.zeros((num_iters, 1))\n",
    "    for i in range(num_iters):\n",
    "        h = logistic_hypothesis(theta)\n",
    "        theta = compute_new_theta_reg(X, y, theta, alpha, h, lam)\n",
    "        for j in range(m):\n",
    "            j = cost_function_reg(X, y, h, theta, lam)\n",
    "            J_history[i] = j\n",
    "    return J_history, theta\n",
    "\n",
    "# test\n",
    "theta_test_11 = np.array([0, 0, 0]) \n",
    "h_test_11 = logistic_hypothesis(theta_test_11)\n",
    "X_test_11 = X.copy()\n",
    "y_test_11 = y.copy()\n",
    "lambda_reg_test_11 = 1\n",
    "\n",
    "J_history, theta_result = gradient_descent_reg(alpha, theta_test_11, X_test_11, y_test_11, lambda_reg_test_11)\n",
    "plt.plot(J_history)"
   ]
  },
  {
   "cell_type": "code",
   "execution_count": null,
   "metadata": {},
   "outputs": [],
   "source": [
    "# test Y\n",
    "print(\"Y_before till 10: \", y[:10])\n",
    "h = logistic_hypothesis(theta_result)\n",
    "y_after = h(X)\n",
    "print(\"Y_after_gradient_descent till 10: \", y_after[:10])"
   ]
  },
  {
   "cell_type": "code",
   "execution_count": null,
   "metadata": {},
   "outputs": [],
   "source": [
    "# Bias Variance Tradeoff\n",
    "# Funktionen\n",
    "def compute_new_theta_bias_variance(x,y,theta_0,theta_1, alpha):\n",
    "\n",
    "    temp0 = 1/len(x) * (theta_0 + theta_1 * x - y).sum() # abgeleitet\n",
    "    temp1 = 1/len(x) * ((theta_0 + theta_1 * x - y) * x).sum() # abgeleitet\n",
    "\n",
    "    theta_0 -= alpha*  temp0\n",
    "    theta_1 -= alpha*  temp1\n",
    "\n",
    "    return theta_0, theta_1\n",
    "\n",
    "def gradient_descent_bias_variance(x, y, theta_0, theta_1, alpha):\n",
    "    kosten = np.array([])\n",
    "    for i in range (iterations):\n",
    "        theta_0, theta_1 = compute_new_theta_bias_variance(x, y, theta_0, theta_1, alpha)   \n",
    "    return theta_0, theta_1\n",
    "\n",
    "def linear_hypothesis(theta_0, theta_1):\n",
    "    def h(x):\n",
    "        y = theta_0 + theta_1*x\n",
    "        return y\n",
    "    return h\n",
    "\n",
    "def constant_hypothesis(y):\n",
    "    def h(x):\n",
    "        r = (y.sum()) / len(y)\n",
    "        return r\n",
    "    return h\n",
    "\n",
    "def train_data(counter, x_train, y_train):\n",
    "    x = x_train[counter[0]:counter[1]]\n",
    "    y = y_train[counter[0]:counter[1]]\n",
    "    return x, y\n",
    "\n",
    "def get_theta(x, y, initial_theta_0, initial_theta_1):\n",
    "    theta_0, theta_1 = gradient_descent_bias_variance(x,y, initial_theta_0, initial_theta_1, alpha)\n",
    "    return theta_0, theta_1"
   ]
  },
  {
   "cell_type": "code",
   "execution_count": null,
   "metadata": {},
   "outputs": [],
   "source": [
    "# Trainings Daten\n",
    "num_train = 1000\n",
    "iterations = 1000\n",
    "alpha = 0.1\n",
    "np.random.seed(1) # wird immer gleiche randoms geben\n",
    "x_train = 2*np.pi*np.random.uniform(0, 1, num_train) # gleichverteilt zwischen 0 und 2*pi\n",
    "y_train = np.sin(x_train)\n",
    "\n",
    "\n",
    "x_test = 2*np.pi*np.random.uniform(0, 1, num_train)\n",
    "y_test = np.sin(x_test)\n",
    "f       = np.sin(x_test)"
   ]
  },
  {
   "cell_type": "code",
   "execution_count": null,
   "metadata": {},
   "outputs": [],
   "source": [
    "def build_hypothesis_h_1(x, y):  \n",
    "    # H1\n",
    "    h_1 = constant_hypothesis(y)\n",
    "    return h_1\n",
    "    \n",
    "def build_hypothesis_h_2(x, y):\n",
    "    # H2\n",
    "    initial_theta_0 = 0\n",
    "    initial_theta_1 = 0\n",
    "    theta_0, theta_1 = get_theta(x, y, initial_theta_0, initial_theta_1)\n",
    "    h_2 = linear_hypothesis(theta_0, theta_1)\n",
    "    return np.array([h_2, theta_0, theta_1])\n",
    "    \n",
    "def plot_hypothesises(h_1, h_2, x_sin, y_sin, x, y):\n",
    "    f0 = plt.figure()\n",
    "    ax0 = f0.add_subplot(111)\n",
    "    \n",
    "    ax0.scatter(x_sin,y_sin)\n",
    "    ax0.scatter(x, y, color='r')\n",
    "    ax0.plot(x_sin,  h_2(x_sin), 'g-')\n",
    "    ax0.plot([0,2*np.pi],[h_1(x),h_1(x)], color=\"r\")\n",
    "\n",
    "def plot_hypothesis_h_1(h_1, x_sin, y_sin, x, y):\n",
    "    f1 = plt.figure()\n",
    "    ax1 = f1.add_subplot(111)\n",
    "    \n",
    "    ax1.scatter(x_sin,y_sin)\n",
    "    ax1.scatter(x, y, color='r')\n",
    "    ax1.plot([0,2*np.pi],[h_1(x),h_1(x)], color=\"r\")\n",
    "\n",
    "def plot_hypothesis_h_1_in_one_plot(h_1, x_sin, y_sin, x, y, ax1):    \n",
    "    ax1.scatter(x_sin,y_sin)\n",
    "    ax1.plot([0,2*np.pi],[h_1(x),h_1(x)], color=\"r\")\n",
    "    \n",
    "def plot_hypothesis_h_2_in_one_plot(h_2, x_sin, y_sin, x, y, ax2):    \n",
    "    ax2.scatter(x_sin,y_sin)\n",
    "    ax2.plot(x_sin, h_2(x_sin), 'g-') \n",
    "\n",
    "def plot_average_h1(average_h, x_sin, y_sin):\n",
    "    f3 = plt.figure()\n",
    "    ax3 = f3.add_subplot(111)\n",
    "    \n",
    "    ax3.scatter(x_sin,y_sin)\n",
    "    ax3.plot([0,2*np.pi],[average_h,average_h], color=\"r\")\n",
    "    \n",
    "def plot_average_h2(average_h_2, x_sin, y_sin):\n",
    "    f3 = plt.figure()\n",
    "    ax3 = f3.add_subplot(111)\n",
    "    theta_0 = average_h_2[0]\n",
    "    theta_1 = average_h_2[1]\n",
    "    \n",
    "    ax3.scatter(x_sin,y_sin)\n",
    "    ax3.plot(x_sin, theta_0 + theta_1 * x_sin, 'g-') \n",
    "    \n",
    "def plot_hypothesis_h_2(h_2, x_sin, y_sin, x, y):\n",
    "    f2 = plt.figure()\n",
    "    ax2 = f2.add_subplot(111)\n",
    "    \n",
    "    ax2.scatter(x_sin,y_sin)\n",
    "    ax2.scatter(x, y, color='r')\n",
    "    ax2.plot(x_sin,  h_2(x_sin), 'g-')\n",
    "    \n",
    "def calculate_e_out(h_1, h_2, x_test, y_test, x, y):\n",
    "    # H1 E_out\n",
    "    y_pre = h_1(x)\n",
    "    e_out_1 = np.mean((y_test - y_pre)**2)\n",
    "    print(\"E_out_model_1\", e_out_1)\n",
    "    # H2 E_out\n",
    "    y_pre = h_2(x_test)\n",
    "    e_out_2 = np.mean((y_test - y_pre)**2)\n",
    "    print(\"E_out_model_2\", e_out_2)"
   ]
  },
  {
   "cell_type": "code",
   "execution_count": null,
   "metadata": {},
   "outputs": [],
   "source": [
    "# test\n",
    "counter = np.array([14,16])\n",
    "x, y = train_data(counter, x_train, y_train)\n",
    "h_1 = build_hypothesis_h_1(x, y)\n",
    "h_2_with_thetas = build_hypothesis_h_2(x, y)\n",
    "h_2 = h_2_with_thetas[0]\n",
    "plot_hypothesises(h_1, h_2, x_train, y_train, x, y)"
   ]
  },
  {
   "cell_type": "code",
   "execution_count": null,
   "metadata": {},
   "outputs": [],
   "source": [
    "x_train = 2*np.pi*np.random.uniform(0, 1, num_train) # gleichverteilt zwischen 0 und 2*pi\n",
    "y_train = np.sin(x_train)\n",
    "\n",
    "x_test = 2*np.pi*np.random.uniform(0, 1, num_train)\n",
    "y_test = np.sin(x_test)\n",
    "\n",
    "def get_hypothesises_h_1(counter, ax1, x_train, y_train, number_of_hypothesises):\n",
    "    h_1_array = np.array([])\n",
    "    for i in range(number_of_hypothesises):\n",
    "        counter[0] = counter[0] + 2\n",
    "        counter[1] = counter[1] + 2\n",
    "        x, y = train_data(counter, x_train, y_train)\n",
    "        h_1 = build_hypothesis_h_1(x, y)\n",
    "        plot_hypothesis_h_1_in_one_plot(h_1, x_train, y_train, x, y, ax1)\n",
    "        h_1_array = np.append(h_1_array, h_1, None)\n",
    "    return h_1_array\n",
    "\n",
    "def average_h_1(h_1_array, x):\n",
    "    y_array = np.array([])\n",
    "    for i in range(h_1_array.size):\n",
    "        y = h_1_array[i](x)\n",
    "        y_array = np.append(y_array, y, None)\n",
    "    return np.mean(y_array), y_array\n",
    "\n",
    "# test\n",
    "counter = np.array([0,2])\n",
    "f1 = plt.figure()\n",
    "ax1 = f1.add_subplot(111)\n",
    "number_of_hypothesises = 40\n",
    "h_1_array = get_hypothesises_h_1(counter, ax1, x_train, y_train, number_of_hypothesises)\n",
    "average_h_1, y_h1_array = average_h_1(h_1_array, x_train)\n",
    "plot_average_h1(average_h_1, x_train, y_train)\n"
   ]
  },
  {
   "cell_type": "code",
   "execution_count": null,
   "metadata": {},
   "outputs": [],
   "source": [
    "def get_hypothesises_h_2(counter, ax2, x_train, y_train, number_of_hypothesises):\n",
    "    h_2_array = np.array([])\n",
    "    for i in range(number_of_hypothesises):\n",
    "        counter[0] = counter[0] + 2\n",
    "        counter[1] = counter[1] + 2\n",
    "        x, y = train_data(counter, x_train, y_train)\n",
    "        h_2_with_thetas = build_hypothesis_h_2(x, y)\n",
    "        h_2 = h_2_with_thetas[0]\n",
    "        plot_hypothesis_h_2_in_one_plot(h_2, x_train, y_train, x, y, ax2)\n",
    "        #plot_hypothesis_h_2(h_2, x_train, y_train, x, y)\n",
    "        h_2_array = np.append(h_2_array, h_2_with_thetas, None)\n",
    "    return h_2_array\n",
    "\n",
    "def average_h_2(h_2_array, x):\n",
    "    theta_0_array = np.array([])\n",
    "    theta_1_array = np.array([])\n",
    "    for i in range(h_2_array.size):\n",
    "        theta_0 = h_2_array[1]\n",
    "        theta_1 = h_2_array[2]\n",
    "        theta_0_array = np.append(theta_0_array, theta_0, None)\n",
    "        theta_1_array = np.append(theta_1_array, theta_1, None)\n",
    "    return np.mean(theta_0_array), np.mean(theta_1_array)\n",
    "\n",
    "# test\n",
    "counter = np.array([0,2])\n",
    "f1 = plt.figure()\n",
    "ax1 = f1.add_subplot(111)\n",
    "number_of_hypothesises = 4\n",
    "h_2_array = get_hypothesises_h_2(counter, ax1, x_train, y_train, number_of_hypothesises)\n",
    "average_h_2 = average_h_2(h_2_array, x_train)\n",
    "plot_average_h2(average_h_2, x_train, y_train)"
   ]
  },
  {
   "cell_type": "markdown",
   "metadata": {},
   "source": [
    "![title](bias_variance.png)\n",
    "![title](bias_variance_2.png)"
   ]
  },
  {
   "cell_type": "code",
   "execution_count": null,
   "metadata": {},
   "outputs": [],
   "source": [
    "# H1\n",
    "y_pre = average_h_1\n",
    "bias_h1 = np.mean((np.mean(y_pre) - f)**2)\n",
    "print(\"bias_model_1\", bias_h1)\n",
    "variance_h1 = np.mean(np.var(y_h1_array))\n",
    "print(\"variance_model_1\", variance_h1)\n",
    "print(\"expected e out\", bias_h1 + variance_h1)\n"
   ]
  },
  {
   "cell_type": "code",
   "execution_count": null,
   "metadata": {},
   "outputs": [],
   "source": [
    "# H2\n",
    "theta_0 = average_h_2[0]\n",
    "theta_1 = average_h_2[1]\n",
    "y_pre_2 = theta_0 + theta_1 * x_test\n",
    "bias_h2 = np.mean((np.mean(y_pre_2) - f)**2)\n",
    "print(\"bias_model_2\", bias_h2)\n",
    "variance_h2 = np.mean(np.var(y_pre_2))\n",
    "print(\"variance_model2\", variance_h2)\n",
    "print(\"expected e out\", bias_h2 + variance_h2)"
   ]
  }
 ],
 "metadata": {
  "kernelspec": {
   "display_name": "Python 3",
   "language": "python",
   "name": "python3"
  },
  "language_info": {
   "codemirror_mode": {
    "name": "ipython",
    "version": 3
   },
   "file_extension": ".py",
   "mimetype": "text/x-python",
   "name": "python",
   "nbconvert_exporter": "python",
   "pygments_lexer": "ipython3",
   "version": "3.6.4"
  }
 },
 "nbformat": 4,
 "nbformat_minor": 2
}
