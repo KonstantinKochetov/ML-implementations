{
 "cells": [
  {
   "cell_type": "markdown",
   "metadata": {},
   "source": [
    "IMPORTS"
   ]
  },
  {
   "cell_type": "code",
   "execution_count": 1,
   "metadata": {},
   "outputs": [],
   "source": [
    "from mpl_toolkits.mplot3d import Axes3D\n",
    "from matplotlib import cm\n",
    "from matplotlib.ticker import LinearLocator, FormatStrFormatter\n",
    "import matplotlib.pyplot as plt\n",
    "import numpy as np"
   ]
  },
  {
   "cell_type": "code",
   "execution_count": 2,
   "metadata": {},
   "outputs": [],
   "source": [
    "# Zufällige Daten\n",
    "points_size = 100\n",
    "theta_0_random = 2\n",
    "theta_1_random = 3\n",
    "\n",
    "# Trainings Daten und Iterationen\n",
    "iterationen = 100\n",
    "theta_0 = 0\n",
    "theta_1 = 0"
   ]
  },
  {
   "cell_type": "markdown",
   "metadata": {},
   "source": [
    "------------------ Aufgabe - 1 ------------------"
   ]
  },
  {
   "cell_type": "code",
   "execution_count": 3,
   "metadata": {},
   "outputs": [
    {
     "data": {
      "image/png": "[encoded data removed]",
      "text/plain": [
       "<Figure size 432x288 with 1 Axes>"
      ]
     },
     "metadata": {},
     "output_type": "display_data"
    }
   ],
   "source": [
    "# x = random\n",
    "x = np.random.uniform(0, 50, points_size) \n",
    "\n",
    "# y = b + a*x\n",
    "\n",
    "# b = random + Rauschen\n",
    "b = (theta_0_random + np.random.normal(0, 10, points_size))\n",
    "\n",
    "# ax = random * x + Rauschen\n",
    "ax = (theta_1_random * (x + np.random.uniform(0, 10, points_size)))\n",
    "\n",
    "y = b + ax\n",
    "\n",
    "plt.scatter(x, y)\n",
    "plt.show()"
   ]
  },
  {
   "cell_type": "markdown",
   "metadata": {
    "collapsed": true
   },
   "source": [
    "------------------ Aufgabe - 2 ------------------"
   ]
  },
  {
   "cell_type": "code",
   "execution_count": 4,
   "metadata": {},
   "outputs": [],
   "source": [
    "def linear_hypothesis(theta_0, theta_1):\n",
    "    def h(x):\n",
    "        y = theta_0 + theta_1*x\n",
    "        return y\n",
    "    return h"
   ]
  },
  {
   "cell_type": "markdown",
   "metadata": {},
   "source": [
    "------------------ Aufgabe - 3 ------------------"
   ]
  },
  {
   "cell_type": "code",
   "execution_count": 5,
   "metadata": {},
   "outputs": [],
   "source": [
    "def kostenfunktion(hypothesis, x, y):\n",
    "    def j(theta_0, theta_1):\n",
    "        hypothesis = linear_hypothesis(theta_0, theta_1)\n",
    "        cost = 1/(2*len(x))*((hypothesis(x) - y)**2).sum()\n",
    "        return cost\n",
    "    return j"
   ]
  },
  {
   "cell_type": "markdown",
   "metadata": {},
   "source": [
    "------------------ Aufgabe - 4 ------------------"
   ]
  },
  {
   "cell_type": "code",
   "execution_count": 6,
   "metadata": {},
   "outputs": [
    {
     "data": {
      "text/plain": [
       "Text(0.5,1,'Kostenfunktion')"
      ]
     },
     "execution_count": 6,
     "metadata": {},
     "output_type": "execute_result"
    },
    {
     "data": {
      "image/png": "[encoded data removed]",
      "text/plain": [
       "<Figure size 432x288 with 1 Axes>"
      ]
     },
     "metadata": {},
     "output_type": "display_data"
    }
   ],
   "source": [
    "ran = 4.\n",
    "a = theta_0\n",
    "b = theta_1\n",
    "\n",
    "t0 = np.arange(a - ran, a + ran, ran * 0.05)\n",
    "t1 = np.arange(b - ran, b + ran, ran * 0.05)\n",
    "\n",
    "C = np.zeros([len(t0),len(t1)])\n",
    "c = kostenfunktion(linear_hypothesis, x, y)\n",
    "\n",
    "for i, t_0 in enumerate(t0):\n",
    "    for j, t_1 in enumerate(t1):\n",
    "        C[j][i] = c(t_0, t_1)\n",
    "T0, T1 = np.meshgrid(t0, t1)\n",
    "\n",
    "plt.subplot(121)\n",
    "plt.contour(T0, T1, C)\n",
    "plt.xlabel('$\\Theta_0$')\n",
    "plt.ylabel('$\\Theta_1$')\n",
    "plt.title('Kostenfunktion')"
   ]
  },
  {
   "cell_type": "markdown",
   "metadata": {},
   "source": [
    "------------------ Aufgabe - 5 ------------------"
   ]
  },
  {
   "cell_type": "code",
   "execution_count": 7,
   "metadata": {},
   "outputs": [],
   "source": [
    "def compute_new_theta (x,y,theta_0,theta_1,alpha):\n",
    "\n",
    "    temp0 = 1/len(x) * (theta_0 + theta_1 * x - y).sum() # abgeleitet\n",
    "    temp1 = 1/len(x) * ((theta_0 + theta_1 * x - y) * x).sum() # abgeleitet\n",
    "\n",
    "    theta_0 -= alpha*  temp0\n",
    "    theta_1 -= alpha*  temp1\n",
    "\n",
    "    return theta_0, theta_1"
   ]
  },
  {
   "cell_type": "markdown",
   "metadata": {},
   "source": [
    "------------------ Aufgabe - 6, 7 ------------------"
   ]
  },
  {
   "cell_type": "code",
   "execution_count": 8,
   "metadata": {},
   "outputs": [],
   "source": [
    "def gradientenabstiegsverfahren(theta_0, theta_1, lernrate, color):\n",
    "    kosten = np.array([])\n",
    "    for i in range (iterationen):\n",
    "        theta_0, theta_1 = compute_new_theta (x, y, theta_0, theta_1, lernrate)\n",
    "        hypothesis = linear_hypothesis(theta_0,theta_1)\n",
    "        j = kostenfunktion(hypothesis, x, y)\n",
    "        j_value = j(theta_0, theta_1)\n",
    "        kosten = np.append(kosten, j_value, None)\n",
    "    \n",
    "    return np.array([kosten, hypothesis, x, y])"
   ]
  },
  {
   "cell_type": "code",
   "execution_count": 9,
   "metadata": {},
   "outputs": [
    {
     "data": {
      "text/plain": [
       "<matplotlib.collections.PathCollection at 0x1063320f0>"
      ]
     },
     "execution_count": 9,
     "metadata": {},
     "output_type": "execute_result"
    },
    {
     "data": {
      "image/png": "[encoded data removed]",
      "text/plain": [
       "<Figure size 432x288 with 1 Axes>"
      ]
     },
     "metadata": {},
     "output_type": "display_data"
    },
    {
     "data": {
      "image/png": "[encoded data removed]",
      "text/plain": [
       "<Figure size 432x288 with 1 Axes>"
      ]
     },
     "metadata": {},
     "output_type": "display_data"
    }
   ],
   "source": [
    "f1 = plt.figure()\n",
    "f2 = plt.figure()\n",
    "ax1 = f1.add_subplot(111)\n",
    "ax2 = f2.add_subplot(111)\n",
    "\n",
    "gradient_1 = gradientenabstiegsverfahren(theta_0, theta_1, 0.0001, \"r\")\n",
    "ax1.plot(gradient_1[0])\n",
    "ax2.plot([0,50],[gradient_1[1](0),gradient_1[1](50)], color=\"r\")\n",
    "\n",
    "gradient_2 = gradientenabstiegsverfahren(theta_0, theta_1, 0.0003, \"g\")\n",
    "ax1.plot(gradient_2[0])\n",
    "ax2.plot([0,50],[gradient_2[1](0),gradient_2[1](50)], color=\"g\")\n",
    "\n",
    "gradient_3 = gradientenabstiegsverfahren(theta_0, theta_1, 0.0005, \"b\")\n",
    "ax1.plot(gradient_3[0])\n",
    "ax2.plot([0,50],[gradient_3[1](0),gradient_3[1](50)], color=\"b\")\n",
    "\n",
    "ax2.scatter(gradient_1[2], gradient_1[3], color='r', s=20)"
   ]
  }
 ],
 "metadata": {
  "kernelspec": {
   "display_name": "Python 3",
   "language": "python",
   "name": "python3"
  },
  "language_info": {
   "codemirror_mode": {
    "name": "ipython",
    "version": 3
   },
   "file_extension": ".py",
   "mimetype": "text/x-python",
   "name": "python",
   "nbconvert_exporter": "python",
   "pygments_lexer": "ipython3",
   "version": "3.6.3"
  }
 },
 "nbformat": 4,
 "nbformat_minor": 2
}
